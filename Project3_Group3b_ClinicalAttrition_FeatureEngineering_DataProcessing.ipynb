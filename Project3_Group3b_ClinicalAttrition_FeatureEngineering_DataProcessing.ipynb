{
  "cells": [
    {
      "cell_type": "markdown",
      "metadata": {
        "id": "view-in-github",
        "colab_type": "text"
      },
      "source": [
        "<a href=\"https://colab.research.google.com/github/tkassahu/clinical-trial-attrition-prediction/blob/main/Project3_Group3b_ClinicalAttrition_FeatureEngineering_DataProcessing.ipynb\" target=\"_parent\"><img src=\"https://colab.research.google.com/assets/colab-badge.svg\" alt=\"Open In Colab\"/></a>"
      ]
    },
    {
      "cell_type": "markdown",
      "source": [
        "#Predicting Patients’ Attrition Percentage in Clinical Trials\n",
        "\n",
        "---\n",
        "\n",
        "\n",
        "Project 3 - Group 3B\n",
        "\n",
        "\n",
        "\n",
        "---\n",
        "\n",
        "### **Primary Goal**: Develop a machine learning model capable of predicting patient attrition percentages in clinical trials using specific features\n"
      ],
      "metadata": {
        "id": "fVowQmC3n1T5"
      }
    },
    {
      "cell_type": "markdown",
      "source": [
        "This notebook covers the steps for **Feature Engineering** and **Data Processing**"
      ],
      "metadata": {
        "id": "EX3DWC2Yp0Zy"
      }
    },
    {
      "cell_type": "markdown",
      "source": [
        "## **1. Feature Engineering**"
      ],
      "metadata": {
        "id": "Un-3zlKErDx6"
      }
    },
    {
      "cell_type": "markdown",
      "source": [
        "### Step 1.1. Feature Extraction"
      ],
      "metadata": {
        "id": "sfN9NX1HruX2"
      }
    },
    {
      "cell_type": "markdown",
      "source": [
        "#### Load the Attrition Dataset"
      ],
      "metadata": {
        "id": "qqmlqRGvwgoN"
      }
    },
    {
      "cell_type": "code",
      "execution_count": null,
      "metadata": {
        "id": "YSmMJ1FUgf0z",
        "colab": {
          "base_uri": "https://localhost:8080/"
        },
        "outputId": "39e31cf0-886a-46a4-ca91-c7fc68621133"
      },
      "outputs": [
        {
          "output_type": "stream",
          "name": "stdout",
          "text": [
            "Requirement already satisfied: pyzipcode in /usr/local/lib/python3.10/dist-packages (3.0.1)\n"
          ]
        }
      ],
      "source": [
        "# Install necessary packages\n",
        "!pip install pyzipcode\n",
        "import requests\n",
        "from pyzipcode import ZipCodeDatabase\n",
        "import folium\n",
        "import pandas as pd\n",
        "import numpy as np"
      ]
    },
    {
      "cell_type": "code",
      "execution_count": null,
      "metadata": {
        "id": "QmrdoVW5NUVp",
        "colab": {
          "base_uri": "https://localhost:8080/"
        },
        "outputId": "3cec46c9-4a99-42f6-e8bd-791a66e066c4"
      },
      "outputs": [
        {
          "output_type": "stream",
          "name": "stdout",
          "text": [
            "Drive already mounted at /content/drive; to attempt to forcibly remount, call drive.mount(\"/content/drive\", force_remount=True).\n"
          ]
        }
      ],
      "source": [
        "# Mounting Google Drive in Google Colab\n",
        "from google.colab import drive\n",
        "drive.mount('/content/drive')"
      ]
    },
    {
      "cell_type": "code",
      "execution_count": null,
      "metadata": {
        "id": "La9uzmNaLjkG"
      },
      "outputs": [],
      "source": [
        "# Define path and load data\n",
        "ct_attrition = \"/content/drive/MyDrive/Georgetown University/HIDS/HIDS-6001/Project 3/Working Files/Data\"\n",
        "attrition_df = pd.read_csv(ct_attrition + \"/ct_attrition_dataset.csv\")"
      ]
    },
    {
      "cell_type": "code",
      "source": [
        "# Sneakpeak at the datafram\n",
        "attrition_df.head()"
      ],
      "metadata": {
        "colab": {
          "base_uri": "https://localhost:8080/",
          "height": 206
        },
        "id": "dYa82lPMvwl2",
        "outputId": "49a2adca-bdf9-4b52-8e8d-1c1f4d0e967f"
      },
      "execution_count": null,
      "outputs": [
        {
          "output_type": "execute_result",
          "data": {
            "text/plain": [
              "        nct_id  dropout_percentage_all\n",
              "0  NCT00001596               17.391304\n",
              "1  NCT00001723                8.000000\n",
              "2  NCT00003869               21.877891\n",
              "3  NCT00003901                0.859599\n",
              "4  NCT00045162               24.436516"
            ],
            "text/html": [
              "\n",
              "  <div id=\"df-0946c54d-f064-473c-9154-76b1311bfdb9\" class=\"colab-df-container\">\n",
              "    <div>\n",
              "<style scoped>\n",
              "    .dataframe tbody tr th:only-of-type {\n",
              "        vertical-align: middle;\n",
              "    }\n",
              "\n",
              "    .dataframe tbody tr th {\n",
              "        vertical-align: top;\n",
              "    }\n",
              "\n",
              "    .dataframe thead th {\n",
              "        text-align: right;\n",
              "    }\n",
              "</style>\n",
              "<table border=\"1\" class=\"dataframe\">\n",
              "  <thead>\n",
              "    <tr style=\"text-align: right;\">\n",
              "      <th></th>\n",
              "      <th>nct_id</th>\n",
              "      <th>dropout_percentage_all</th>\n",
              "    </tr>\n",
              "  </thead>\n",
              "  <tbody>\n",
              "    <tr>\n",
              "      <th>0</th>\n",
              "      <td>NCT00001596</td>\n",
              "      <td>17.391304</td>\n",
              "    </tr>\n",
              "    <tr>\n",
              "      <th>1</th>\n",
              "      <td>NCT00001723</td>\n",
              "      <td>8.000000</td>\n",
              "    </tr>\n",
              "    <tr>\n",
              "      <th>2</th>\n",
              "      <td>NCT00003869</td>\n",
              "      <td>21.877891</td>\n",
              "    </tr>\n",
              "    <tr>\n",
              "      <th>3</th>\n",
              "      <td>NCT00003901</td>\n",
              "      <td>0.859599</td>\n",
              "    </tr>\n",
              "    <tr>\n",
              "      <th>4</th>\n",
              "      <td>NCT00045162</td>\n",
              "      <td>24.436516</td>\n",
              "    </tr>\n",
              "  </tbody>\n",
              "</table>\n",
              "</div>\n",
              "    <div class=\"colab-df-buttons\">\n",
              "\n",
              "  <div class=\"colab-df-container\">\n",
              "    <button class=\"colab-df-convert\" onclick=\"convertToInteractive('df-0946c54d-f064-473c-9154-76b1311bfdb9')\"\n",
              "            title=\"Convert this dataframe to an interactive table.\"\n",
              "            style=\"display:none;\">\n",
              "\n",
              "  <svg xmlns=\"http://www.w3.org/2000/svg\" height=\"24px\" viewBox=\"0 -960 960 960\">\n",
              "    <path d=\"M120-120v-720h720v720H120Zm60-500h600v-160H180v160Zm220 220h160v-160H400v160Zm0 220h160v-160H400v160ZM180-400h160v-160H180v160Zm440 0h160v-160H620v160ZM180-180h160v-160H180v160Zm440 0h160v-160H620v160Z\"/>\n",
              "  </svg>\n",
              "    </button>\n",
              "\n",
              "  <style>\n",
              "    .colab-df-container {\n",
              "      display:flex;\n",
              "      gap: 12px;\n",
              "    }\n",
              "\n",
              "    .colab-df-convert {\n",
              "      background-color: #E8F0FE;\n",
              "      border: none;\n",
              "      border-radius: 50%;\n",
              "      cursor: pointer;\n",
              "      display: none;\n",
              "      fill: #1967D2;\n",
              "      height: 32px;\n",
              "      padding: 0 0 0 0;\n",
              "      width: 32px;\n",
              "    }\n",
              "\n",
              "    .colab-df-convert:hover {\n",
              "      background-color: #E2EBFA;\n",
              "      box-shadow: 0px 1px 2px rgba(60, 64, 67, 0.3), 0px 1px 3px 1px rgba(60, 64, 67, 0.15);\n",
              "      fill: #174EA6;\n",
              "    }\n",
              "\n",
              "    .colab-df-buttons div {\n",
              "      margin-bottom: 4px;\n",
              "    }\n",
              "\n",
              "    [theme=dark] .colab-df-convert {\n",
              "      background-color: #3B4455;\n",
              "      fill: #D2E3FC;\n",
              "    }\n",
              "\n",
              "    [theme=dark] .colab-df-convert:hover {\n",
              "      background-color: #434B5C;\n",
              "      box-shadow: 0px 1px 3px 1px rgba(0, 0, 0, 0.15);\n",
              "      filter: drop-shadow(0px 1px 2px rgba(0, 0, 0, 0.3));\n",
              "      fill: #FFFFFF;\n",
              "    }\n",
              "  </style>\n",
              "\n",
              "    <script>\n",
              "      const buttonEl =\n",
              "        document.querySelector('#df-0946c54d-f064-473c-9154-76b1311bfdb9 button.colab-df-convert');\n",
              "      buttonEl.style.display =\n",
              "        google.colab.kernel.accessAllowed ? 'block' : 'none';\n",
              "\n",
              "      async function convertToInteractive(key) {\n",
              "        const element = document.querySelector('#df-0946c54d-f064-473c-9154-76b1311bfdb9');\n",
              "        const dataTable =\n",
              "          await google.colab.kernel.invokeFunction('convertToInteractive',\n",
              "                                                    [key], {});\n",
              "        if (!dataTable) return;\n",
              "\n",
              "        const docLinkHtml = 'Like what you see? Visit the ' +\n",
              "          '<a target=\"_blank\" href=https://colab.research.google.com/notebooks/data_table.ipynb>data table notebook</a>'\n",
              "          + ' to learn more about interactive tables.';\n",
              "        element.innerHTML = '';\n",
              "        dataTable['output_type'] = 'display_data';\n",
              "        await google.colab.output.renderOutput(dataTable, element);\n",
              "        const docLink = document.createElement('div');\n",
              "        docLink.innerHTML = docLinkHtml;\n",
              "        element.appendChild(docLink);\n",
              "      }\n",
              "    </script>\n",
              "  </div>\n",
              "\n",
              "\n",
              "<div id=\"df-303e0283-fce7-46b1-93e9-cc4ef968f30d\">\n",
              "  <button class=\"colab-df-quickchart\" onclick=\"quickchart('df-303e0283-fce7-46b1-93e9-cc4ef968f30d')\"\n",
              "            title=\"Suggest charts\"\n",
              "            style=\"display:none;\">\n",
              "\n",
              "<svg xmlns=\"http://www.w3.org/2000/svg\" height=\"24px\"viewBox=\"0 0 24 24\"\n",
              "     width=\"24px\">\n",
              "    <g>\n",
              "        <path d=\"M19 3H5c-1.1 0-2 .9-2 2v14c0 1.1.9 2 2 2h14c1.1 0 2-.9 2-2V5c0-1.1-.9-2-2-2zM9 17H7v-7h2v7zm4 0h-2V7h2v10zm4 0h-2v-4h2v4z\"/>\n",
              "    </g>\n",
              "</svg>\n",
              "  </button>\n",
              "\n",
              "<style>\n",
              "  .colab-df-quickchart {\n",
              "      --bg-color: #E8F0FE;\n",
              "      --fill-color: #1967D2;\n",
              "      --hover-bg-color: #E2EBFA;\n",
              "      --hover-fill-color: #174EA6;\n",
              "      --disabled-fill-color: #AAA;\n",
              "      --disabled-bg-color: #DDD;\n",
              "  }\n",
              "\n",
              "  [theme=dark] .colab-df-quickchart {\n",
              "      --bg-color: #3B4455;\n",
              "      --fill-color: #D2E3FC;\n",
              "      --hover-bg-color: #434B5C;\n",
              "      --hover-fill-color: #FFFFFF;\n",
              "      --disabled-bg-color: #3B4455;\n",
              "      --disabled-fill-color: #666;\n",
              "  }\n",
              "\n",
              "  .colab-df-quickchart {\n",
              "    background-color: var(--bg-color);\n",
              "    border: none;\n",
              "    border-radius: 50%;\n",
              "    cursor: pointer;\n",
              "    display: none;\n",
              "    fill: var(--fill-color);\n",
              "    height: 32px;\n",
              "    padding: 0;\n",
              "    width: 32px;\n",
              "  }\n",
              "\n",
              "  .colab-df-quickchart:hover {\n",
              "    background-color: var(--hover-bg-color);\n",
              "    box-shadow: 0 1px 2px rgba(60, 64, 67, 0.3), 0 1px 3px 1px rgba(60, 64, 67, 0.15);\n",
              "    fill: var(--button-hover-fill-color);\n",
              "  }\n",
              "\n",
              "  .colab-df-quickchart-complete:disabled,\n",
              "  .colab-df-quickchart-complete:disabled:hover {\n",
              "    background-color: var(--disabled-bg-color);\n",
              "    fill: var(--disabled-fill-color);\n",
              "    box-shadow: none;\n",
              "  }\n",
              "\n",
              "  .colab-df-spinner {\n",
              "    border: 2px solid var(--fill-color);\n",
              "    border-color: transparent;\n",
              "    border-bottom-color: var(--fill-color);\n",
              "    animation:\n",
              "      spin 1s steps(1) infinite;\n",
              "  }\n",
              "\n",
              "  @keyframes spin {\n",
              "    0% {\n",
              "      border-color: transparent;\n",
              "      border-bottom-color: var(--fill-color);\n",
              "      border-left-color: var(--fill-color);\n",
              "    }\n",
              "    20% {\n",
              "      border-color: transparent;\n",
              "      border-left-color: var(--fill-color);\n",
              "      border-top-color: var(--fill-color);\n",
              "    }\n",
              "    30% {\n",
              "      border-color: transparent;\n",
              "      border-left-color: var(--fill-color);\n",
              "      border-top-color: var(--fill-color);\n",
              "      border-right-color: var(--fill-color);\n",
              "    }\n",
              "    40% {\n",
              "      border-color: transparent;\n",
              "      border-right-color: var(--fill-color);\n",
              "      border-top-color: var(--fill-color);\n",
              "    }\n",
              "    60% {\n",
              "      border-color: transparent;\n",
              "      border-right-color: var(--fill-color);\n",
              "    }\n",
              "    80% {\n",
              "      border-color: transparent;\n",
              "      border-right-color: var(--fill-color);\n",
              "      border-bottom-color: var(--fill-color);\n",
              "    }\n",
              "    90% {\n",
              "      border-color: transparent;\n",
              "      border-bottom-color: var(--fill-color);\n",
              "    }\n",
              "  }\n",
              "</style>\n",
              "\n",
              "  <script>\n",
              "    async function quickchart(key) {\n",
              "      const quickchartButtonEl =\n",
              "        document.querySelector('#' + key + ' button');\n",
              "      quickchartButtonEl.disabled = true;  // To prevent multiple clicks.\n",
              "      quickchartButtonEl.classList.add('colab-df-spinner');\n",
              "      try {\n",
              "        const charts = await google.colab.kernel.invokeFunction(\n",
              "            'suggestCharts', [key], {});\n",
              "      } catch (error) {\n",
              "        console.error('Error during call to suggestCharts:', error);\n",
              "      }\n",
              "      quickchartButtonEl.classList.remove('colab-df-spinner');\n",
              "      quickchartButtonEl.classList.add('colab-df-quickchart-complete');\n",
              "    }\n",
              "    (() => {\n",
              "      let quickchartButtonEl =\n",
              "        document.querySelector('#df-303e0283-fce7-46b1-93e9-cc4ef968f30d button');\n",
              "      quickchartButtonEl.style.display =\n",
              "        google.colab.kernel.accessAllowed ? 'block' : 'none';\n",
              "    })();\n",
              "  </script>\n",
              "</div>\n",
              "\n",
              "    </div>\n",
              "  </div>\n"
            ],
            "application/vnd.google.colaboratory.intrinsic+json": {
              "type": "dataframe",
              "variable_name": "attrition_df",
              "summary": "{\n  \"name\": \"attrition_df\",\n  \"rows\": 1325,\n  \"fields\": [\n    {\n      \"column\": \"nct_id\",\n      \"properties\": {\n        \"dtype\": \"string\",\n        \"num_unique_values\": 1325,\n        \"samples\": [\n          \"NCT01366521\",\n          \"NCT00736489\",\n          \"NCT01362244\"\n        ],\n        \"semantic_type\": \"\",\n        \"description\": \"\"\n      }\n    },\n    {\n      \"column\": \"dropout_percentage_all\",\n      \"properties\": {\n        \"dtype\": \"number\",\n        \"std\": 10.26738233962597,\n        \"min\": 0.0,\n        \"max\": 57.89473684,\n        \"num_unique_values\": 1185,\n        \"samples\": [\n          12.0,\n          6.082365069,\n          7.356109147\n        ],\n        \"semantic_type\": \"\",\n        \"description\": \"\"\n      }\n    }\n  ]\n}"
            }
          },
          "metadata": {},
          "execution_count": 4
        }
      ]
    },
    {
      "cell_type": "code",
      "source": [
        "# Check for any missing values\n",
        "attrition_df.isna().sum()"
      ],
      "metadata": {
        "colab": {
          "base_uri": "https://localhost:8080/",
          "height": 147
        },
        "id": "EDbsJt6uv4Ip",
        "outputId": "94681af3-332f-40f7-c243-fe3e1e17eead"
      },
      "execution_count": null,
      "outputs": [
        {
          "output_type": "execute_result",
          "data": {
            "text/plain": [
              "nct_id                    0\n",
              "dropout_percentage_all    0\n",
              "dtype: int64"
            ],
            "text/html": [
              "<div>\n",
              "<style scoped>\n",
              "    .dataframe tbody tr th:only-of-type {\n",
              "        vertical-align: middle;\n",
              "    }\n",
              "\n",
              "    .dataframe tbody tr th {\n",
              "        vertical-align: top;\n",
              "    }\n",
              "\n",
              "    .dataframe thead th {\n",
              "        text-align: right;\n",
              "    }\n",
              "</style>\n",
              "<table border=\"1\" class=\"dataframe\">\n",
              "  <thead>\n",
              "    <tr style=\"text-align: right;\">\n",
              "      <th></th>\n",
              "      <th>0</th>\n",
              "    </tr>\n",
              "  </thead>\n",
              "  <tbody>\n",
              "    <tr>\n",
              "      <th>nct_id</th>\n",
              "      <td>0</td>\n",
              "    </tr>\n",
              "    <tr>\n",
              "      <th>dropout_percentage_all</th>\n",
              "      <td>0</td>\n",
              "    </tr>\n",
              "  </tbody>\n",
              "</table>\n",
              "</div><br><label><b>dtype:</b> int64</label>"
            ]
          },
          "metadata": {},
          "execution_count": 5
        }
      ]
    },
    {
      "cell_type": "code",
      "source": [
        "# Check datafram info\n",
        "attrition_df.info()"
      ],
      "metadata": {
        "colab": {
          "base_uri": "https://localhost:8080/"
        },
        "id": "Gt3DQi0WwOIU",
        "outputId": "261a8614-336a-49a8-a95e-8e884608f4c9"
      },
      "execution_count": null,
      "outputs": [
        {
          "output_type": "stream",
          "name": "stdout",
          "text": [
            "<class 'pandas.core.frame.DataFrame'>\n",
            "RangeIndex: 1325 entries, 0 to 1324\n",
            "Data columns (total 2 columns):\n",
            " #   Column                  Non-Null Count  Dtype  \n",
            "---  ------                  --------------  -----  \n",
            " 0   nct_id                  1325 non-null   object \n",
            " 1   dropout_percentage_all  1325 non-null   float64\n",
            "dtypes: float64(1), object(1)\n",
            "memory usage: 20.8+ KB\n"
          ]
        }
      ]
    },
    {
      "cell_type": "markdown",
      "source": [
        "#### Get Data from the JSON file via ClinicalTrials.gov API"
      ],
      "metadata": {
        "id": "LCeqdnnGw86e"
      }
    },
    {
      "cell_type": "code",
      "execution_count": null,
      "metadata": {
        "id": "xmz62bmCLmdF"
      },
      "outputs": [],
      "source": [
        "# Create a list of URLs from the 'nct_id' column\n",
        "nct_list = attrition_df['nct_id']\n",
        "url_series = [\"https://clinicaltrials.gov/api/v2/studies/\" + nct_id for nct_id in nct_list]"
      ]
    },
    {
      "cell_type": "code",
      "execution_count": null,
      "metadata": {
        "id": "XbNt-aUYLpFg"
      },
      "outputs": [],
      "source": [
        "# Initialize an empty list to store the results\n",
        "studyTypes = []\n",
        "enrollment_infos = []\n",
        "healthy_volunteers = []\n",
        "interventions_list = []\n",
        "armGroups_list = []\n",
        "start_date = []\n",
        "completion_date = []\n",
        "zip_codes_list = []\n",
        "trial_phase = []\n",
        "min_age = []\n",
        "max_age = []\n",
        "num_locations = []\n",
        "total_serious_events = []\n",
        "conditions = []\n",
        "gender = []\n",
        "masking = []\n",
        "std_ages = []\n",
        "who_masked = []"
      ]
    },
    {
      "cell_type": "code",
      "execution_count": null,
      "metadata": {
        "id": "leCzwLzTLuiR"
      },
      "outputs": [],
      "source": [
        "# Loop through the list of URLs and make requests\n",
        "for url in url_series:\n",
        "    try:\n",
        "        # Get the data from the API\n",
        "        response = requests.get(url)\n",
        "        response.raise_for_status()  # Ensure we catch any HTTP errors\n",
        "        jsonContent = response.json()\n",
        "\n",
        "        # Extract values from JSON, using 'Not Available' for missing fields\n",
        "        studyType = jsonContent['protocolSection']['designModule'].get('studyType', 'Not Available')\n",
        "        enrollmentInfo = jsonContent['protocolSection']['designModule']['enrollmentInfo'].get('count', 'Not Available')\n",
        "        healthyVolunteers = jsonContent['protocolSection']['eligibilityModule'].get('healthyVolunteers', 'Not Available')\n",
        "        interventions = jsonContent['protocolSection']['armsInterventionsModule'].get('interventions', [])\n",
        "        armGroups = jsonContent['protocolSection']['armsInterventionsModule'].get('armGroups', [])\n",
        "        startDateStruct = jsonContent['protocolSection']['statusModule'].get('startDateStruct', {})\n",
        "        completionDateStruct = jsonContent['protocolSection']['statusModule'].get('completionDateStruct', {})\n",
        "        locations = jsonContent['protocolSection'].get('contactsLocationsModule', {}).get('locations', [])\n",
        "        phases = jsonContent['protocolSection']['designModule'].get('phases', 'Not Available')\n",
        "        minimumAge = jsonContent['protocolSection']['eligibilityModule'].get('minimumAge', 'Not Available')\n",
        "        maximumAge = jsonContent['protocolSection']['eligibilityModule'].get('maximumAge', 'Not Available')\n",
        "        seriousEvents = jsonContent['resultsSection']['adverseEventsModule'].get('seriousEvents', [])\n",
        "        conditions_name = jsonContent['protocolSection']['conditionsModule'].get('conditions', 'Not Available')\n",
        "        sex = jsonContent['protocolSection']['eligibilityModule'].get('sex', 'Not Available')\n",
        "        maskingInfo = jsonContent.get('protocolSection', {}).get('designModule', {}).get('designInfo', {}).get('maskingInfo', {}).get('masking', 'Not Available')\n",
        "        stdAges = jsonContent['protocolSection']['eligibilityModule'].get('stdAges', 'Not Available')\n",
        "        whoMasked = jsonContent.get('protocolSection', {}).get('designModule', {}).get('designInfo', {}).get('maskingInfo', {}).get('whoMasked', [])\n",
        "\n",
        "        # Extract only the 'type' from each intervention in the list\n",
        "        intervention_types = [intervention.get('type', 'Not Available') for intervention in interventions]\n",
        "\n",
        "        # Extract only the 'type' from each armGroup in the list\n",
        "        armGroups_types = [armGroup.get('type', 'Not Available') for armGroup in armGroups]\n",
        "\n",
        "        # Extract zip codes, ensuring the location list is not empty and contains 'zip' keys\n",
        "        zip_codes = [zipcode.get('zip', 'Not Available') for zipcode in locations if isinstance(zipcode, dict)]\n",
        "\n",
        "        # Extract start and completion dates, ensuring the structures are not empty\n",
        "        startDate = startDateStruct.get('date', 'Not Available') if isinstance(startDateStruct, dict) else 'Not Available'\n",
        "        endDate = completionDateStruct.get('date', 'Not Available') if isinstance(completionDateStruct, dict) else 'Not Available'\n",
        "\n",
        "        # Replace None with 'NONE' and handle empty lists by returning 'Not Available'\n",
        "        whoMasked = ['NONE' if mask is None else str(mask) for mask in whoMasked]\n",
        "\n",
        "        # Handle the case where 'Not Available' and 'NONE' should be separate\n",
        "        if not whoMasked:\n",
        "            whoMasked_str = 'Not Available'\n",
        "        else:\n",
        "            whoMasked_str = \", \".join(whoMasked)\n",
        "\n",
        "\n",
        "        # Append each value to the corresponding list\n",
        "        studyTypes.append(studyType)\n",
        "        enrollment_infos.append(enrollmentInfo)\n",
        "        healthy_volunteers.append(healthyVolunteers)\n",
        "        interventions_list.append(intervention_types)\n",
        "        armGroups_list.append(armGroups_types)\n",
        "        start_date.append(startDate)  # Append the start date directly (as a string)\n",
        "        completion_date.append(endDate)  # Append the end date directly (as a string)\n",
        "        zip_codes_list.append(zip_codes)\n",
        "        trial_phase.append(phases)\n",
        "        min_age.append(minimumAge)\n",
        "        max_age.append(maximumAge)\n",
        "        num_locations.append(len(locations))\n",
        "        total_serious_events.append(len(seriousEvents))\n",
        "        conditions.append(conditions_name)\n",
        "        gender.append(sex)\n",
        "        masking.append(maskingInfo)\n",
        "        std_ages.append(stdAges)\n",
        "        who_masked.append(whoMasked_str)\n",
        "\n",
        "    except requests.exceptions.RequestException as e:\n",
        "        # Handle any errors with the request (e.g., timeout, non-200 status)\n",
        "        print(f\"Error processing {url}: {e}\")"
      ]
    },
    {
      "cell_type": "code",
      "execution_count": null,
      "metadata": {
        "id": "E2ImUmspLw0d"
      },
      "outputs": [],
      "source": [
        "# Add the new columns to the DataFrame\n",
        "attrition_df['studyType'] = studyTypes\n",
        "attrition_df['enrollmentInfo'] = enrollment_infos\n",
        "attrition_df['healthyVolunteers'] = healthy_volunteers\n",
        "attrition_df['interventions'] = interventions_list\n",
        "attrition_df['armGroups'] = armGroups_list\n",
        "attrition_df['startDateStruct'] = start_date\n",
        "attrition_df['completionDateStruct'] = completion_date\n",
        "attrition_df['zip_codes'] = zip_codes_list\n",
        "attrition_df['phases'] = trial_phase\n",
        "attrition_df['minimumAge'] = min_age\n",
        "attrition_df['maximumAge'] = max_age\n",
        "attrition_df['locations'] = num_locations\n",
        "attrition_df['seriousEvents'] = total_serious_events\n",
        "attrition_df['conditions_name'] = conditions\n",
        "attrition_df['sex'] = gender\n",
        "attrition_df['maskingInfo'] = masking\n",
        "attrition_df['stdAges'] = std_ages\n",
        "attrition_df['whoMasked_str'] = who_masked"
      ]
    },
    {
      "cell_type": "code",
      "execution_count": null,
      "metadata": {
        "id": "qPJHr0RYrIEt",
        "colab": {
          "base_uri": "https://localhost:8080/"
        },
        "outputId": "101edec3-4d0c-4efc-8d3f-c48ba0e62358"
      },
      "outputs": [
        {
          "output_type": "stream",
          "name": "stdout",
          "text": [
            "           nct_id  dropout_percentage_all       studyType  enrollmentInfo  \\\n",
            "0     NCT00001596               17.391304  INTERVENTIONAL              35   \n",
            "1     NCT00001723                8.000000  INTERVENTIONAL             200   \n",
            "2     NCT00003869               21.877891  INTERVENTIONAL             186   \n",
            "3     NCT00003901                0.859599  INTERVENTIONAL            1310   \n",
            "4     NCT00045162               24.436516  INTERVENTIONAL             671   \n",
            "...           ...                     ...             ...             ...   \n",
            "1320  NCT02948582                2.777778  INTERVENTIONAL              42   \n",
            "1321  NCT03005067               10.068114  INTERVENTIONAL             171   \n",
            "1322  NCT03021304                0.000000  INTERVENTIONAL              56   \n",
            "1323  NCT03022422               13.043478  INTERVENTIONAL              63   \n",
            "1324  NCT03099096                0.628931  INTERVENTIONAL             159   \n",
            "\n",
            "      healthyVolunteers                         interventions  \\\n",
            "0                 False                          [DRUG, DRUG]   \n",
            "1                 False                          [DRUG, DRUG]   \n",
            "2                 False       [DRUG, OTHER, PROCEDURE, OTHER]   \n",
            "3                 False         [OTHER, PROCEDURE, PROCEDURE]   \n",
            "4                 False                    [DRUG, DRUG, DRUG]   \n",
            "...                 ...                                   ...   \n",
            "1320              False  [DRUG, DRUG, DRUG, DRUG, DRUG, DRUG]   \n",
            "1321              False                         [DRUG, OTHER]   \n",
            "1322              False                                [DRUG]   \n",
            "1323               True              [BIOLOGICAL, BIOLOGICAL]   \n",
            "1324              False                                [DRUG]   \n",
            "\n",
            "                                              armGroups startDateStruct  \\\n",
            "0               [ACTIVE_COMPARATOR, PLACEBO_COMPARATOR]         2005-09   \n",
            "1                    [PLACEBO_COMPARATOR, EXPERIMENTAL]         1998-05   \n",
            "2                    [EXPERIMENTAL, PLACEBO_COMPARATOR]         1999-04   \n",
            "3                                        [EXPERIMENTAL]         1999-07   \n",
            "4                [ACTIVE_COMPARATOR, ACTIVE_COMPARATOR]         2002-11   \n",
            "...                                                 ...             ...   \n",
            "1320  [EXPERIMENTAL, EXPERIMENTAL, EXPERIMENTAL, EXP...         2010-07   \n",
            "1321                 [EXPERIMENTAL, PLACEBO_COMPARATOR]      2016-12-29   \n",
            "1322                                     [EXPERIMENTAL]      2017-02-01   \n",
            "1323         [OTHER, OTHER, OTHER, OTHER, OTHER, OTHER]         2011-09   \n",
            "1324                                     [EXPERIMENTAL]      2017-05-04   \n",
            "\n",
            "     completionDateStruct                                          zip_codes  \\\n",
            "0              2016-05-09                                            [20892]   \n",
            "1                 2011-10                                            [20892]   \n",
            "2                 2008-05                                            [55905]   \n",
            "3                 2011-10  [36608, 36640-0460, 90033-0804, 91105, 95817, ...   \n",
            "4                 2009-12  [36202, 35801, 36652-2144, 36801-5452, 99508, ...   \n",
            "...                   ...                                                ...   \n",
            "1320              2010-11                                                 []   \n",
            "1321           2017-06-07  [35211, 85224, 85206, 92083, 80112, 80128, 337...   \n",
            "1322           2017-08-08  [35243, 90025, 45231, 29118-2040, G1V 4G5, J6E...   \n",
            "1323              2011-12                                                 []   \n",
            "1324           2017-11-30  [35243, 85251, 90025, 92123, 80907, 33180, 331...   \n",
            "\n",
            "        phases minimumAge     maximumAge  locations  seriousEvents  \\\n",
            "0     [PHASE2]   18 Years  Not Available          1              5   \n",
            "1     [PHASE2]   12 Years       17 Years          1              2   \n",
            "2     [PHASE3]   18 Years  Not Available          1             29   \n",
            "3     [PHASE3]   18 Years  Not Available         58              0   \n",
            "4     [PHASE3]   18 Years      120 Years        408             89   \n",
            "...        ...        ...            ...        ...            ...   \n",
            "1320  [PHASE2]   40 Years       75 Years          0              1   \n",
            "1321  [PHASE2]   18 Years       75 Years         24              1   \n",
            "1322  [PHASE3]   12 Years  Not Available         15              2   \n",
            "1323  [PHASE4]   18 Years      100 Years          0              0   \n",
            "1324  [PHASE3]   12 Years  Not Available         38              9   \n",
            "\n",
            "                                        conditions_name            sex  \\\n",
            "0     [Albinism, Inborn Errors of Metabolism, Oculoc...            ALL   \n",
            "1     [Diabetes Mellitus, Hypertension, Metabolic Di...            ALL   \n",
            "2     [Stage IIIA Non-small Cell Lung Cancer, Stage ...            ALL   \n",
            "3                                         [Lung Cancer]            ALL   \n",
            "4                                         [Lung Cancer]            ALL   \n",
            "...                                                 ...            ...   \n",
            "1320            [Chronic Obstructive Pulmonary Disease]  Not Available   \n",
            "1321                                      [Common Cold]            ALL   \n",
            "1322                                           [Asthma]            ALL   \n",
            "1323                                        [Influenza]            ALL   \n",
            "1324                                           [Asthma]            ALL   \n",
            "\n",
            "     maskingInfo                      stdAges  \\\n",
            "0      QUADRUPLE         [ADULT, OLDER_ADULT]   \n",
            "1      QUADRUPLE                      [CHILD]   \n",
            "2         DOUBLE         [ADULT, OLDER_ADULT]   \n",
            "3           NONE         [ADULT, OLDER_ADULT]   \n",
            "4           NONE         [ADULT, OLDER_ADULT]   \n",
            "...          ...                          ...   \n",
            "1320      TRIPLE         [ADULT, OLDER_ADULT]   \n",
            "1321      DOUBLE         [ADULT, OLDER_ADULT]   \n",
            "1322        NONE  [CHILD, ADULT, OLDER_ADULT]   \n",
            "1323        NONE         [ADULT, OLDER_ADULT]   \n",
            "1324        NONE  [CHILD, ADULT, OLDER_ADULT]   \n",
            "\n",
            "                                          whoMasked_str  \n",
            "0     PARTICIPANT, CARE_PROVIDER, INVESTIGATOR, OUTC...  \n",
            "1     PARTICIPANT, CARE_PROVIDER, INVESTIGATOR, OUTC...  \n",
            "2                             PARTICIPANT, INVESTIGATOR  \n",
            "3                                         Not Available  \n",
            "4                                         Not Available  \n",
            "...                                                 ...  \n",
            "1320           PARTICIPANT, CARE_PROVIDER, INVESTIGATOR  \n",
            "1321                          PARTICIPANT, INVESTIGATOR  \n",
            "1322                                      Not Available  \n",
            "1323                                      Not Available  \n",
            "1324                                      Not Available  \n",
            "\n",
            "[1325 rows x 20 columns]\n"
          ]
        }
      ],
      "source": [
        "# Check the updated DataFrame\n",
        "print(attrition_df)"
      ]
    },
    {
      "cell_type": "code",
      "source": [
        "#Get dataframe info\n",
        "attrition_df.info()"
      ],
      "metadata": {
        "colab": {
          "base_uri": "https://localhost:8080/"
        },
        "id": "zw1Q0pway52C",
        "outputId": "256cbc31-48ed-40e1-ee09-f504a3ad5f3a"
      },
      "execution_count": null,
      "outputs": [
        {
          "output_type": "stream",
          "name": "stdout",
          "text": [
            "<class 'pandas.core.frame.DataFrame'>\n",
            "RangeIndex: 1325 entries, 0 to 1324\n",
            "Data columns (total 20 columns):\n",
            " #   Column                  Non-Null Count  Dtype  \n",
            "---  ------                  --------------  -----  \n",
            " 0   nct_id                  1325 non-null   object \n",
            " 1   dropout_percentage_all  1325 non-null   float64\n",
            " 2   studyType               1325 non-null   object \n",
            " 3   enrollmentInfo          1325 non-null   int64  \n",
            " 4   healthyVolunteers       1325 non-null   bool   \n",
            " 5   interventions           1325 non-null   object \n",
            " 6   armGroups               1325 non-null   object \n",
            " 7   startDateStruct         1325 non-null   object \n",
            " 8   completionDateStruct    1325 non-null   object \n",
            " 9   zip_codes               1325 non-null   object \n",
            " 10  phases                  1325 non-null   object \n",
            " 11  minimumAge              1325 non-null   object \n",
            " 12  maximumAge              1325 non-null   object \n",
            " 13  locations               1325 non-null   int64  \n",
            " 14  seriousEvents           1325 non-null   int64  \n",
            " 15  conditions_name         1325 non-null   object \n",
            " 16  sex                     1325 non-null   object \n",
            " 17  maskingInfo             1325 non-null   object \n",
            " 18  stdAges                 1325 non-null   object \n",
            " 19  whoMasked_str           1325 non-null   object \n",
            "dtypes: bool(1), float64(1), int64(3), object(15)\n",
            "memory usage: 198.1+ KB\n"
          ]
        }
      ]
    },
    {
      "cell_type": "markdown",
      "source": [
        "### Step 1.2. Feature Transformation and Creation\n",
        "\n",
        "In this step, we will transform existing features one at a time and create additional features as we go."
      ],
      "metadata": {
        "id": "Xseixkbkt4a2"
      }
    },
    {
      "cell_type": "markdown",
      "source": [
        "#### Transform the 'startDateStruct' and 'completionDateStruct' to calculate 'duration'"
      ],
      "metadata": {
        "id": "VLBdEiukx3CF"
      }
    },
    {
      "cell_type": "code",
      "execution_count": null,
      "metadata": {
        "id": "YR8aTaqcNx6o"
      },
      "outputs": [],
      "source": [
        "# Function to normalize the date\n",
        "def normalize_date(date_str):\n",
        "    if pd.isna(date_str):\n",
        "        return None  # If the date is NaN, return None\n",
        "    if len(date_str) == 7:  # Format is year-month (e.g., '2005-09')\n",
        "        return pd.to_datetime(date_str + '-01')  # Assume the first day of the month\n",
        "    else:\n",
        "        return pd.to_datetime(date_str, errors='coerce')  # Convert to datetime\n",
        "\n",
        "# Normalize startDate and completionDate\n",
        "attrition_df['startDate'] = attrition_df['startDateStruct'].apply(normalize_date)\n",
        "attrition_df['completionDate'] = attrition_df['completionDateStruct'].apply(normalize_date)\n",
        "\n",
        "# Calculate the 'duration' by subtracting the start date from the completion date\n",
        "attrition_df['duration'] = (attrition_df['completionDate'] - attrition_df['startDate']).dt.days\n"
      ]
    },
    {
      "cell_type": "code",
      "execution_count": null,
      "metadata": {
        "id": "Qs8gjXfPOlhG",
        "colab": {
          "base_uri": "https://localhost:8080/"
        },
        "outputId": "94d182a6-e911-4581-bdd1-7145535f6437"
      },
      "outputs": [
        {
          "output_type": "stream",
          "name": "stdout",
          "text": [
            "      startDate startDateStruct completionDate completionDateStruct  duration\n",
            "0    2005-09-01         2005-09     2016-05-09           2016-05-09    3903.0\n",
            "1    1998-05-01         1998-05     2011-10-01              2011-10    4901.0\n",
            "2    1999-04-01         1999-04     2008-05-01              2008-05    3318.0\n",
            "3    1999-07-01         1999-07     2011-10-01              2011-10    4475.0\n",
            "4    2002-11-01         2002-11     2009-12-01              2009-12    2587.0\n",
            "...         ...             ...            ...                  ...       ...\n",
            "1320 2010-07-01         2010-07     2010-11-01              2010-11     123.0\n",
            "1321 2016-12-29      2016-12-29     2017-06-07           2017-06-07     160.0\n",
            "1322 2017-02-01      2017-02-01     2017-08-08           2017-08-08     188.0\n",
            "1323 2011-09-01         2011-09     2011-12-01              2011-12      91.0\n",
            "1324 2017-05-04      2017-05-04     2017-11-30           2017-11-30     210.0\n",
            "\n",
            "[1325 rows x 5 columns]\n"
          ]
        }
      ],
      "source": [
        "# Check the result\n",
        "print(attrition_df[['startDate', 'startDateStruct', 'completionDate', 'completionDateStruct', 'duration']])"
      ]
    },
    {
      "cell_type": "markdown",
      "source": [
        "#### Transform 'whoMasked_str' and 'maskingInfo' to create 'participant_masked'"
      ],
      "metadata": {
        "id": "3SgYx-xYzE7V"
      }
    },
    {
      "cell_type": "code",
      "execution_count": null,
      "metadata": {
        "id": "zlb6FW8EG5Dv"
      },
      "outputs": [],
      "source": [
        "# Modify the 'whoMasked_str' column based on the 'maskingInfo' column\n",
        "def update_who_masked_str(row):\n",
        "    if row['maskingInfo'] == 'NONE' and pd.isna(row['whoMasked_str']):\n",
        "        return 'NONE'  # If maskingInfo is 'NONE' and whoMasked_str is empty, fill with 'NONE'\n",
        "    elif row['maskingInfo'] == 'NONE':\n",
        "        return 'NONE'  # If maskingInfo is 'NONE', fill with 'NONE'\n",
        "    elif row['maskingInfo'] == 'Not Available':\n",
        "        return 'Not Available'  # If maskingInfo is 'Not Available', fill with 'Not Available'\n",
        "    else:\n",
        "        return row['whoMasked_str']  # Otherwise, keep whoMasked_str as is"
      ]
    },
    {
      "cell_type": "code",
      "execution_count": null,
      "metadata": {
        "id": "UxUCZkR9HF56",
        "colab": {
          "base_uri": "https://localhost:8080/"
        },
        "outputId": "ff959d58-4dae-42f8-95bc-93764c1a79bb"
      },
      "outputs": [
        {
          "output_type": "stream",
          "name": "stdout",
          "text": [
            "whoMasked_str\n",
            "NONE                                                           464\n",
            "PARTICIPANT, CARE_PROVIDER, INVESTIGATOR, OUTCOMES_ASSESSOR    315\n",
            "PARTICIPANT, INVESTIGATOR                                      257\n",
            "PARTICIPANT, CARE_PROVIDER, INVESTIGATOR                        78\n",
            "Not Available                                                   77\n",
            "PARTICIPANT, INVESTIGATOR, OUTCOMES_ASSESSOR                    60\n",
            "PARTICIPANT                                                     26\n",
            "OUTCOMES_ASSESSOR                                               18\n",
            "INVESTIGATOR                                                     8\n",
            "PARTICIPANT, OUTCOMES_ASSESSOR                                   7\n",
            "PARTICIPANT, CARE_PROVIDER                                       6\n",
            "PARTICIPANT, CARE_PROVIDER, OUTCOMES_ASSESSOR                    6\n",
            "CARE_PROVIDER, INVESTIGATOR                                      1\n",
            "CARE_PROVIDER, OUTCOMES_ASSESSOR                                 1\n",
            "INVESTIGATOR, OUTCOMES_ASSESSOR                                  1\n",
            "Name: count, dtype: int64\n"
          ]
        }
      ],
      "source": [
        "# Apply the function to the DataFrame\n",
        "attrition_df['whoMasked_str'] = attrition_df.apply(update_who_masked_str, axis=1)\n",
        "\n",
        "# Verify the updated value counts\n",
        "print(attrition_df['whoMasked_str'].value_counts())"
      ]
    },
    {
      "cell_type": "code",
      "execution_count": null,
      "metadata": {
        "id": "TAs85t5JxTwR"
      },
      "outputs": [],
      "source": [
        "# Define a function to categorize masking status\n",
        "def categorize_participant_masking(whoMasked_str):\n",
        "    if pd.isnull(whoMasked_str):  # Check for null or NaN\n",
        "        return 'Unknown'\n",
        "    whoMasked_str = str(whoMasked_str)  # Ensure it's a string\n",
        "    if whoMasked_str == 'Not Available':  # Keep \"Not Available\" unchanged\n",
        "        return 'Not Available'\n",
        "    elif 'PARTICIPANT' in whoMasked_str:\n",
        "        return 'Participant Masked'\n",
        "    else:\n",
        "        return 'Not Masked'\n",
        "\n",
        "# Apply the function to create a new column\n",
        "attrition_df['masking_category'] = attrition_df['whoMasked_str'].apply(categorize_participant_masking)"
      ]
    },
    {
      "cell_type": "code",
      "source": [
        "# Check the value counts for the new column\n",
        "print(attrition_df['masking_category'].value_counts())"
      ],
      "metadata": {
        "colab": {
          "base_uri": "https://localhost:8080/"
        },
        "id": "mMChOx4xMyIH",
        "outputId": "67b5d97a-3d0a-43a1-d711-5373945f65ed"
      },
      "execution_count": null,
      "outputs": [
        {
          "output_type": "stream",
          "name": "stdout",
          "text": [
            "masking_category\n",
            "Participant Masked    755\n",
            "Not Masked            493\n",
            "Not Available          77\n",
            "Name: count, dtype: int64\n"
          ]
        }
      ]
    },
    {
      "cell_type": "code",
      "source": [
        "# Rename the column to 'participant_masked'\n",
        "attrition_df.rename(columns={'masking_category': 'participant_masked'}, inplace=True)\n",
        "\n",
        "# Apply the transformation\n",
        "attrition_df['participant_masked'] = attrition_df['participant_masked'].replace({\n",
        "    'Participant Masked': 1,\n",
        "    'Not Masked': 0,\n",
        "    'Not Available': pd.NA\n",
        "})\n",
        "\n",
        "# Check the changes\n",
        "print(attrition_df[['participant_masked']].head())"
      ],
      "metadata": {
        "colab": {
          "base_uri": "https://localhost:8080/"
        },
        "id": "zR7RnhX7fpH4",
        "outputId": "1e9071aa-366e-45ef-df81-ea77cf38e000"
      },
      "execution_count": null,
      "outputs": [
        {
          "output_type": "stream",
          "name": "stdout",
          "text": [
            "  participant_masked\n",
            "0                  1\n",
            "1                  1\n",
            "2                  1\n",
            "3                  0\n",
            "4                  0\n"
          ]
        }
      ]
    },
    {
      "cell_type": "code",
      "source": [
        "print(attrition_df['participant_masked'].value_counts())"
      ],
      "metadata": {
        "colab": {
          "base_uri": "https://localhost:8080/"
        },
        "id": "Cswa44fbfwHQ",
        "outputId": "9ce90cd3-c203-421c-ffc1-b9bd1cecb934"
      },
      "execution_count": null,
      "outputs": [
        {
          "output_type": "stream",
          "name": "stdout",
          "text": [
            "participant_masked\n",
            "1    755\n",
            "0    493\n",
            "Name: count, dtype: int64\n"
          ]
        }
      ]
    },
    {
      "cell_type": "markdown",
      "source": [
        "#### Create bins from 'interventions' then apply one-hot encoding"
      ],
      "metadata": {
        "id": "4iXdoTDM2Zx3"
      }
    },
    {
      "cell_type": "code",
      "source": [
        "# Modify 'interventions' to 'multiple' if more than one intervention\n",
        "attrition_df['interventions'] = attrition_df['interventions'].apply(lambda x: x[0] if len(x) == 1 else 'multiple')"
      ],
      "metadata": {
        "id": "qDWclAAb2Hdw"
      },
      "execution_count": null,
      "outputs": []
    },
    {
      "cell_type": "code",
      "source": [
        "# Define a function to categorize the interventions into separate columns\n",
        "def categorize_interventions(interventions):\n",
        "    # Initialize columns for multiple, DRUG, BIOLOGICAL, DEVICE, RADIATION\n",
        "    multiple = 1 if 'multiple' in str(interventions) else 0\n",
        "    drug = 1 if 'DRUG' in str(interventions) else 0\n",
        "    biological = 1 if 'BIOLOGICAL' in str(interventions) else 0\n",
        "    device = 1 if 'DEVICE' in str(interventions) else 0\n",
        "    radiation = 1 if 'RADIATION' in str(interventions) else 0\n",
        "    return pd.Series([multiple, drug, biological, device, radiation], index=['multiple_interventions', 'DRUG', 'BIOLOGICAL', 'DEVICE', 'RADIATION'])\n",
        "\n",
        "# Apply the function to create the new columns\n",
        "attrition_df[['multiple_interventions', 'DRUG', 'BIOLOGICAL', 'DEVICE', 'RADIATION']] = attrition_df['interventions'].apply(categorize_interventions)\n",
        "\n",
        "# Check the updated dataframe\n",
        "print(attrition_df[['interventions', 'multiple_interventions', 'DRUG', 'BIOLOGICAL', 'DEVICE', 'RADIATION']].head())"
      ],
      "metadata": {
        "colab": {
          "base_uri": "https://localhost:8080/"
        },
        "id": "8Je2DLNjw99r",
        "outputId": "6e4c668d-d16d-49a2-8d6b-045a8c46413b"
      },
      "execution_count": null,
      "outputs": [
        {
          "output_type": "stream",
          "name": "stdout",
          "text": [
            "  interventions  multiple_interventions  DRUG  BIOLOGICAL  DEVICE  RADIATION\n",
            "0      multiple                       1     0           0       0          0\n",
            "1      multiple                       1     0           0       0          0\n",
            "2      multiple                       1     0           0       0          0\n",
            "3      multiple                       1     0           0       0          0\n",
            "4      multiple                       1     0           0       0          0\n"
          ]
        }
      ]
    },
    {
      "cell_type": "markdown",
      "source": [
        "#### Apply one-hot encoding to 'stdAges'"
      ],
      "metadata": {
        "id": "pumn3cDV1YFo"
      }
    },
    {
      "cell_type": "code",
      "source": [
        "# Check values for 'stdAges'\n",
        "print(attrition_df['stdAges'].value_counts())"
      ],
      "metadata": {
        "colab": {
          "base_uri": "https://localhost:8080/"
        },
        "id": "0kL4ymki9s8-",
        "outputId": "2455d84d-181c-4dd7-c1f7-8e566245cbe1"
      },
      "execution_count": null,
      "outputs": [
        {
          "output_type": "stream",
          "name": "stdout",
          "text": [
            "stdAges\n",
            "[ADULT, OLDER_ADULT]           826\n",
            "[CHILD, ADULT, OLDER_ADULT]    213\n",
            "[CHILD]                        165\n",
            "[ADULT]                         68\n",
            "[OLDER_ADULT]                   29\n",
            "[CHILD, ADULT]                  24\n",
            "Name: count, dtype: int64\n"
          ]
        }
      ]
    },
    {
      "cell_type": "code",
      "source": [
        "# Define a function to categorize stdAges into CHILD, ADULT, OLDER_ADULT columns\n",
        "def categorize_std_ages(std_ages):\n",
        "    # Initialize columns for CHILD, ADULT, and OLDER_ADULT\n",
        "    child = 1 if 'CHILD' in str(std_ages) else 0\n",
        "    adult = 1 if 'ADULT' in str(std_ages) else 0\n",
        "    older_adult = 1 if 'OLDER ADULT' in str(std_ages) else 0\n",
        "    return pd.Series([child, adult, older_adult], index=['CHILD', 'ADULT', 'OLDER_ADULT'])\n",
        "\n",
        "# Apply the function to create the new columns\n",
        "attrition_df[['CHILD', 'ADULT', 'OLDER_ADULT']] = attrition_df['stdAges'].apply(categorize_std_ages)\n",
        "\n",
        "# Check the updated dataframe\n",
        "print(attrition_df[['stdAges', 'CHILD', 'ADULT', 'OLDER_ADULT']].head())"
      ],
      "metadata": {
        "colab": {
          "base_uri": "https://localhost:8080/"
        },
        "id": "Dt4S_MXdT66T",
        "outputId": "5235b1a3-d6b6-4a52-c5ca-649d37e4ee2c"
      },
      "execution_count": null,
      "outputs": [
        {
          "output_type": "stream",
          "name": "stdout",
          "text": [
            "                stdAges  CHILD  ADULT  OLDER_ADULT\n",
            "0  [ADULT, OLDER_ADULT]      0      1            0\n",
            "1               [CHILD]      1      0            0\n",
            "2  [ADULT, OLDER_ADULT]      0      1            0\n",
            "3  [ADULT, OLDER_ADULT]      0      1            0\n",
            "4  [ADULT, OLDER_ADULT]      0      1            0\n"
          ]
        }
      ]
    },
    {
      "cell_type": "code",
      "source": [
        "print(attrition_df[['CHILD', 'ADULT', 'OLDER_ADULT']].value_counts())"
      ],
      "metadata": {
        "colab": {
          "base_uri": "https://localhost:8080/"
        },
        "id": "r69HRbGeUJLW",
        "outputId": "be657bfc-3cbe-4c9c-fdae-61b8b373c84e"
      },
      "execution_count": null,
      "outputs": [
        {
          "output_type": "stream",
          "name": "stdout",
          "text": [
            "CHILD  ADULT  OLDER_ADULT\n",
            "0      1      0              923\n",
            "1      1      0              237\n",
            "       0      0              165\n",
            "Name: count, dtype: int64\n"
          ]
        }
      ]
    },
    {
      "cell_type": "markdown",
      "source": [
        "#### Apply one-hot encoding to 'phases'"
      ],
      "metadata": {
        "id": "nXoRkFiY20_e"
      }
    },
    {
      "cell_type": "code",
      "source": [
        "# Check values for 'phases'\n",
        "print(attrition_df['phases'].value_counts())"
      ],
      "metadata": {
        "colab": {
          "base_uri": "https://localhost:8080/"
        },
        "id": "JZo45t-MonOP",
        "outputId": "43f1b2f5-0019-4771-9d2d-fe218ecf3612"
      },
      "execution_count": null,
      "outputs": [
        {
          "output_type": "stream",
          "name": "stdout",
          "text": [
            "phases\n",
            "[PHASE3]            614\n",
            "[PHASE2]            446\n",
            "[PHASE4]            212\n",
            "[PHASE1, PHASE2]     34\n",
            "[PHASE2, PHASE3]     18\n",
            "[NA]                  1\n",
            "Name: count, dtype: int64\n"
          ]
        }
      ]
    },
    {
      "cell_type": "code",
      "source": [
        "# Define a function to categorize the phases into separate columns\n",
        "def categorize_phases(phases):\n",
        "    # Initialize columns for PHASE1, PHASE2, PHASE3, PHASE4\n",
        "    phase1 = 1 if 'PHASE1' in str(phases) else 0\n",
        "    phase2 = 1 if 'PHASE2' in str(phases) else 0\n",
        "    phase3 = 1 if 'PHASE3' in str(phases) else 0\n",
        "    phase4 = 1 if 'PHASE4' in str(phases) else 0\n",
        "    return pd.Series([phase1, phase2, phase3, phase4], index=['PHASE1', 'PHASE2', 'PHASE3', 'PHASE4'])\n",
        "\n",
        "# Apply the function to create the new columns\n",
        "attrition_df[['PHASE1', 'PHASE2', 'PHASE3', 'PHASE4']] = attrition_df['phases'].apply(categorize_phases)"
      ],
      "metadata": {
        "id": "JXEoa1FpqVm0"
      },
      "execution_count": null,
      "outputs": []
    },
    {
      "cell_type": "code",
      "source": [
        "# Check the updated dataframe\n",
        "print(attrition_df[['PHASE1', 'PHASE2', 'PHASE3', 'PHASE4']].head())"
      ],
      "metadata": {
        "colab": {
          "base_uri": "https://localhost:8080/"
        },
        "id": "pgL9KVDyqaL_",
        "outputId": "9631045c-adae-4c25-ffa0-ad82df6e53f0"
      },
      "execution_count": null,
      "outputs": [
        {
          "output_type": "stream",
          "name": "stdout",
          "text": [
            "   PHASE1  PHASE2  PHASE3  PHASE4\n",
            "0       0       1       0       0\n",
            "1       0       1       0       0\n",
            "2       0       0       1       0\n",
            "3       0       0       1       0\n",
            "4       0       0       1       0\n"
          ]
        }
      ]
    },
    {
      "cell_type": "markdown",
      "source": [
        "#### Apply one-hot encoding to 'sex'"
      ],
      "metadata": {
        "id": "6KqZw98J3IpM"
      }
    },
    {
      "cell_type": "code",
      "source": [
        "# Define a function to categorize the 'sex' variable into separate columns\n",
        "def categorize_sex(sex):\n",
        "    # Initialize columns for ALL_SEX, FEMALE, and MALE with mutual exclusivity\n",
        "    all_sex = 1 if sex == 'ALL' else 0\n",
        "    female = 1 if sex == 'FEMALE' else 0\n",
        "    male = 1 if sex == 'MALE' else 0\n",
        "    return pd.Series([all_sex, female, male], index=['ALL_SEX', 'FEMALE', 'MALE'])\n",
        "\n",
        "# Apply the function to create the new columns\n",
        "attrition_df[['ALL_SEX', 'FEMALE', 'MALE']] = attrition_df['sex'].apply(categorize_sex)\n",
        "\n",
        "# Check the updated dataframe\n",
        "print(attrition_df[['sex', 'ALL_SEX', 'FEMALE', 'MALE']].value_counts())"
      ],
      "metadata": {
        "colab": {
          "base_uri": "https://localhost:8080/"
        },
        "id": "C2ETEil2xtuc",
        "outputId": "fa737828-5b0a-40b0-be80-d2b11a46df1c"
      },
      "execution_count": null,
      "outputs": [
        {
          "output_type": "stream",
          "name": "stdout",
          "text": [
            "sex            ALL_SEX  FEMALE  MALE\n",
            "ALL            1        0       0       1315\n",
            "FEMALE         0        1       0          8\n",
            "MALE           0        0       1          1\n",
            "Not Available  0        0       0          1\n",
            "Name: count, dtype: int64\n"
          ]
        }
      ]
    },
    {
      "cell_type": "code",
      "source": [
        "print(attrition_df[['sex', 'ALL_SEX', 'FEMALE', 'MALE']].value_counts())"
      ],
      "metadata": {
        "colab": {
          "base_uri": "https://localhost:8080/"
        },
        "id": "ROdZuHlPqenP",
        "outputId": "e66229f8-36b0-4ac3-dbda-46fd18da78bc"
      },
      "execution_count": null,
      "outputs": [
        {
          "output_type": "stream",
          "name": "stdout",
          "text": [
            "sex            ALL_SEX  FEMALE  MALE\n",
            "ALL            1        0       0       1315\n",
            "FEMALE         0        1       0          8\n",
            "MALE           0        0       1          1\n",
            "Not Available  0        0       0          1\n",
            "Name: count, dtype: int64\n"
          ]
        }
      ]
    },
    {
      "cell_type": "markdown",
      "source": [
        "#### Apply label encoding to 'healthVolunteers'"
      ],
      "metadata": {
        "id": "B3YADqKJCqfW"
      }
    },
    {
      "cell_type": "code",
      "source": [
        "# Using map to convert TRUE to 1 and FALSE to 0\n",
        "attrition_df['healthyVolunteers'] = attrition_df['healthyVolunteers'].map({True: 1, False: 0})"
      ],
      "metadata": {
        "id": "GL3IQ8zgUjQ6"
      },
      "execution_count": null,
      "outputs": []
    },
    {
      "cell_type": "code",
      "source": [
        "print(attrition_df['healthyVolunteers'].value_counts())"
      ],
      "metadata": {
        "colab": {
          "base_uri": "https://localhost:8080/"
        },
        "id": "I-ZgYb5PU_9i",
        "outputId": "27ea6d21-8f62-4ffb-f4e7-81869cff5ce3"
      },
      "execution_count": null,
      "outputs": [
        {
          "output_type": "stream",
          "name": "stdout",
          "text": [
            "healthyVolunteers\n",
            "0    1100\n",
            "1     225\n",
            "Name: count, dtype: int64\n"
          ]
        }
      ]
    },
    {
      "cell_type": "markdown",
      "source": [
        "#### Create 'armsGroupsCount' and 'condition_count'"
      ],
      "metadata": {
        "id": "5boglqW235d4"
      }
    },
    {
      "cell_type": "code",
      "execution_count": null,
      "metadata": {
        "id": "yGh0cA-bYFOJ",
        "colab": {
          "base_uri": "https://localhost:8080/"
        },
        "outputId": "00db9b9b-16a8-41d3-8c70-62a41b0042f1"
      },
      "outputs": [
        {
          "output_type": "stream",
          "name": "stdout",
          "text": [
            "0    2\n",
            "1    2\n",
            "2    2\n",
            "3    1\n",
            "4    2\n",
            "Name: armGroupsCount, dtype: int64\n"
          ]
        }
      ],
      "source": [
        "# Create a new column 'armGroupsCount' that counts the number of items in each 'armGroups' list\n",
        "attrition_df['armGroupsCount'] = attrition_df['armGroups'].apply(lambda x: len(x))\n",
        "\n",
        "print(attrition_df['armGroupsCount'].head())"
      ]
    },
    {
      "cell_type": "code",
      "source": [
        "# Create a new column 'condition_count' that stores the number of items in the 'conditions_name' list\n",
        "attrition_df['condition_count'] = attrition_df['conditions_name'].apply(len)\n",
        "\n",
        "print(attrition_df['condition_count'].head())"
      ],
      "metadata": {
        "id": "6zH88KGGVlVD",
        "colab": {
          "base_uri": "https://localhost:8080/"
        },
        "outputId": "70b1a1f2-32e8-431f-e16f-2754c56ba3c2"
      },
      "execution_count": null,
      "outputs": [
        {
          "output_type": "stream",
          "name": "stdout",
          "text": [
            "0    5\n",
            "1    5\n",
            "2    3\n",
            "3    1\n",
            "4    1\n",
            "Name: condition_count, dtype: int64\n"
          ]
        }
      ]
    },
    {
      "cell_type": "markdown",
      "source": [
        "## **2. Data Processing**"
      ],
      "metadata": {
        "id": "pOtNDT4T4u9d"
      }
    },
    {
      "cell_type": "markdown",
      "source": [
        "#### Step 2.1. Create New Dataframe with Final Features\n"
      ],
      "metadata": {
        "id": "haONdNeB6-Qv"
      }
    },
    {
      "cell_type": "code",
      "execution_count": null,
      "metadata": {
        "id": "-ng3OSUDR3qu",
        "colab": {
          "base_uri": "https://localhost:8080/"
        },
        "outputId": "2912fc62-dc05-4605-b817-ac1740b74493"
      },
      "outputs": [
        {
          "output_type": "execute_result",
          "data": {
            "text/plain": [
              "Index(['nct_id', 'dropout_percentage_all', 'studyType', 'enrollmentInfo',\n",
              "       'healthyVolunteers', 'interventions', 'armGroups', 'startDateStruct',\n",
              "       'completionDateStruct', 'zip_codes', 'phases', 'minimumAge',\n",
              "       'maximumAge', 'locations', 'seriousEvents', 'conditions_name', 'sex',\n",
              "       'maskingInfo', 'stdAges', 'whoMasked_str', 'startDate',\n",
              "       'completionDate', 'duration', 'participant_masked',\n",
              "       'multiple_interventions', 'DRUG', 'BIOLOGICAL', 'DEVICE', 'RADIATION',\n",
              "       'CHILD', 'ADULT', 'OLDER_ADULT', 'PHASE1', 'PHASE2', 'PHASE3', 'PHASE4',\n",
              "       'ALL_SEX', 'FEMALE', 'MALE', 'armGroupsCount', 'condition_count'],\n",
              "      dtype='object')"
            ]
          },
          "metadata": {},
          "execution_count": 35
        }
      ],
      "source": [
        "# Print attrition_df columns names\n",
        "attrition_df.columns"
      ]
    },
    {
      "cell_type": "code",
      "execution_count": null,
      "metadata": {
        "id": "pIqhQsWjR9t8"
      },
      "outputs": [],
      "source": [
        "# Create New Final DataFrame with the Final Features to be used for the model\n",
        "attrition_df_final = attrition_df[[\n",
        "    'nct_id', 'dropout_percentage_all', 'duration', 'locations', 'condition_count',\n",
        "    'armGroupsCount', 'enrollmentInfo', 'healthyVolunteers', 'seriousEvents',\n",
        "    'participant_masked', 'CHILD', 'ADULT', 'OLDER_ADULT', 'PHASE1', 'PHASE2',\n",
        "    'PHASE3', 'PHASE4', 'multiple_interventions', 'DRUG', 'BIOLOGICAL',\n",
        "    'DEVICE', 'RADIATION', 'FEMALE', 'MALE', 'ALL_SEX'\n",
        "]]"
      ]
    },
    {
      "cell_type": "markdown",
      "source": [
        "#### Step 2.2. Data Cleaning"
      ],
      "metadata": {
        "id": "26jrRf6Y7Uk0"
      }
    },
    {
      "cell_type": "code",
      "source": [
        "# Sneakpeak to identify features that need cleaning\n",
        "attrition_df_final.value_counts()"
      ],
      "metadata": {
        "colab": {
          "base_uri": "https://localhost:8080/",
          "height": 509
        },
        "id": "uH-vicUh7cEi",
        "outputId": "628cff96-3abc-486a-8e77-a021132f4e5f"
      },
      "execution_count": null,
      "outputs": [
        {
          "output_type": "execute_result",
          "data": {
            "text/plain": [
              "nct_id       dropout_percentage_all  duration  locations  condition_count  armGroupsCount  enrollmentInfo  healthyVolunteers  seriousEvents  participant_masked  CHILD  ADULT  OLDER_ADULT  PHASE1  PHASE2  PHASE3  PHASE4  multiple_interventions  DRUG  BIOLOGICAL  DEVICE  RADIATION  FEMALE  MALE  ALL_SEX\n",
              "NCT00001596  17.391304               3903.0    1          5                2               35              0                  5              1                   0      1      0            0       1       0       0       1                       0     0           0       0          0       0     1          1\n",
              "NCT01366209  5.585279                976.0     1          1                2               555             0                  103            1                   0      1      0            0       0       1       0       1                       0     0           0       0          0       0     1          1\n",
              "NCT01378429  2.380952                123.0     7          2                2               89              0                  0              1                   1      0      0            0       0       1       0       1                       0     0           0       0          0       0     1          1\n",
              "NCT01376388  12.307692               488.0     23         1                1               131             0                  21             0                   0      1      0            0       0       1       0       0                       1     0           0       0          0       0     1          1\n",
              "NCT01376245  13.661130               519.0     34         1                2               646             0                  29             1                   0      1      0            0       0       1       0       1                       0     0           0       0          0       0     1          1\n",
              "                                                                                                                                                                                                                                                                                                                 ..\n",
              "NCT00698516  6.000000                669.0     16         2                1               50              0                  35             0                   0      1      0            0       1       0       0       0                       1     0           0       0          0       0     1          1\n",
              "NCT00690482  5.137588                214.0     21         1                2               118             0                  1              1                   0      1      0            0       1       0       0       1                       0     0           0       0          0       0     1          1\n",
              "NCT00686959  0.000000                2252.0    133        1                2               598             0                  171            0                   0      1      0            0       0       1       0       1                       0     0           0       0          0       0     1          1\n",
              "NCT00682643  41.275385               975.0     56         1                2               550             0                  23             1                   1      1      0            0       0       0       1       1                       0     0           0       0          0       0     1          1\n",
              "NCT03099096  0.628931                210.0     38         1                1               159             0                  9              0                   1      1      0            0       0       1       0       0                       1     0           0       0          0       0     1          1\n",
              "Name: count, Length: 1234, dtype: int64"
            ],
            "text/html": [
              "<div>\n",
              "<style scoped>\n",
              "    .dataframe tbody tr th:only-of-type {\n",
              "        vertical-align: middle;\n",
              "    }\n",
              "\n",
              "    .dataframe tbody tr th {\n",
              "        vertical-align: top;\n",
              "    }\n",
              "\n",
              "    .dataframe thead th {\n",
              "        text-align: right;\n",
              "    }\n",
              "</style>\n",
              "<table border=\"1\" class=\"dataframe\">\n",
              "  <thead>\n",
              "    <tr style=\"text-align: right;\">\n",
              "      <th></th>\n",
              "      <th></th>\n",
              "      <th></th>\n",
              "      <th></th>\n",
              "      <th></th>\n",
              "      <th></th>\n",
              "      <th></th>\n",
              "      <th></th>\n",
              "      <th></th>\n",
              "      <th></th>\n",
              "      <th></th>\n",
              "      <th></th>\n",
              "      <th></th>\n",
              "      <th></th>\n",
              "      <th></th>\n",
              "      <th></th>\n",
              "      <th></th>\n",
              "      <th></th>\n",
              "      <th></th>\n",
              "      <th></th>\n",
              "      <th></th>\n",
              "      <th></th>\n",
              "      <th></th>\n",
              "      <th></th>\n",
              "      <th></th>\n",
              "      <th>count</th>\n",
              "    </tr>\n",
              "    <tr>\n",
              "      <th>nct_id</th>\n",
              "      <th>dropout_percentage_all</th>\n",
              "      <th>duration</th>\n",
              "      <th>locations</th>\n",
              "      <th>condition_count</th>\n",
              "      <th>armGroupsCount</th>\n",
              "      <th>enrollmentInfo</th>\n",
              "      <th>healthyVolunteers</th>\n",
              "      <th>seriousEvents</th>\n",
              "      <th>participant_masked</th>\n",
              "      <th>CHILD</th>\n",
              "      <th>ADULT</th>\n",
              "      <th>OLDER_ADULT</th>\n",
              "      <th>PHASE1</th>\n",
              "      <th>PHASE2</th>\n",
              "      <th>PHASE3</th>\n",
              "      <th>PHASE4</th>\n",
              "      <th>multiple_interventions</th>\n",
              "      <th>DRUG</th>\n",
              "      <th>BIOLOGICAL</th>\n",
              "      <th>DEVICE</th>\n",
              "      <th>RADIATION</th>\n",
              "      <th>FEMALE</th>\n",
              "      <th>MALE</th>\n",
              "      <th>ALL_SEX</th>\n",
              "      <th></th>\n",
              "    </tr>\n",
              "  </thead>\n",
              "  <tbody>\n",
              "    <tr>\n",
              "      <th>NCT00001596</th>\n",
              "      <th>17.391304</th>\n",
              "      <th>3903.0</th>\n",
              "      <th>1</th>\n",
              "      <th>5</th>\n",
              "      <th>2</th>\n",
              "      <th>35</th>\n",
              "      <th>0</th>\n",
              "      <th>5</th>\n",
              "      <th>1</th>\n",
              "      <th>0</th>\n",
              "      <th>1</th>\n",
              "      <th>0</th>\n",
              "      <th>0</th>\n",
              "      <th>1</th>\n",
              "      <th>0</th>\n",
              "      <th>0</th>\n",
              "      <th>1</th>\n",
              "      <th>0</th>\n",
              "      <th>0</th>\n",
              "      <th>0</th>\n",
              "      <th>0</th>\n",
              "      <th>0</th>\n",
              "      <th>0</th>\n",
              "      <th>1</th>\n",
              "      <td>1</td>\n",
              "    </tr>\n",
              "    <tr>\n",
              "      <th>NCT01366209</th>\n",
              "      <th>5.585279</th>\n",
              "      <th>976.0</th>\n",
              "      <th>1</th>\n",
              "      <th>1</th>\n",
              "      <th>2</th>\n",
              "      <th>555</th>\n",
              "      <th>0</th>\n",
              "      <th>103</th>\n",
              "      <th>1</th>\n",
              "      <th>0</th>\n",
              "      <th>1</th>\n",
              "      <th>0</th>\n",
              "      <th>0</th>\n",
              "      <th>0</th>\n",
              "      <th>1</th>\n",
              "      <th>0</th>\n",
              "      <th>1</th>\n",
              "      <th>0</th>\n",
              "      <th>0</th>\n",
              "      <th>0</th>\n",
              "      <th>0</th>\n",
              "      <th>0</th>\n",
              "      <th>0</th>\n",
              "      <th>1</th>\n",
              "      <td>1</td>\n",
              "    </tr>\n",
              "    <tr>\n",
              "      <th>NCT01378429</th>\n",
              "      <th>2.380952</th>\n",
              "      <th>123.0</th>\n",
              "      <th>7</th>\n",
              "      <th>2</th>\n",
              "      <th>2</th>\n",
              "      <th>89</th>\n",
              "      <th>0</th>\n",
              "      <th>0</th>\n",
              "      <th>1</th>\n",
              "      <th>1</th>\n",
              "      <th>0</th>\n",
              "      <th>0</th>\n",
              "      <th>0</th>\n",
              "      <th>0</th>\n",
              "      <th>1</th>\n",
              "      <th>0</th>\n",
              "      <th>1</th>\n",
              "      <th>0</th>\n",
              "      <th>0</th>\n",
              "      <th>0</th>\n",
              "      <th>0</th>\n",
              "      <th>0</th>\n",
              "      <th>0</th>\n",
              "      <th>1</th>\n",
              "      <td>1</td>\n",
              "    </tr>\n",
              "    <tr>\n",
              "      <th>NCT01376388</th>\n",
              "      <th>12.307692</th>\n",
              "      <th>488.0</th>\n",
              "      <th>23</th>\n",
              "      <th>1</th>\n",
              "      <th>1</th>\n",
              "      <th>131</th>\n",
              "      <th>0</th>\n",
              "      <th>21</th>\n",
              "      <th>0</th>\n",
              "      <th>0</th>\n",
              "      <th>1</th>\n",
              "      <th>0</th>\n",
              "      <th>0</th>\n",
              "      <th>0</th>\n",
              "      <th>1</th>\n",
              "      <th>0</th>\n",
              "      <th>0</th>\n",
              "      <th>1</th>\n",
              "      <th>0</th>\n",
              "      <th>0</th>\n",
              "      <th>0</th>\n",
              "      <th>0</th>\n",
              "      <th>0</th>\n",
              "      <th>1</th>\n",
              "      <td>1</td>\n",
              "    </tr>\n",
              "    <tr>\n",
              "      <th>NCT01376245</th>\n",
              "      <th>13.661130</th>\n",
              "      <th>519.0</th>\n",
              "      <th>34</th>\n",
              "      <th>1</th>\n",
              "      <th>2</th>\n",
              "      <th>646</th>\n",
              "      <th>0</th>\n",
              "      <th>29</th>\n",
              "      <th>1</th>\n",
              "      <th>0</th>\n",
              "      <th>1</th>\n",
              "      <th>0</th>\n",
              "      <th>0</th>\n",
              "      <th>0</th>\n",
              "      <th>1</th>\n",
              "      <th>0</th>\n",
              "      <th>1</th>\n",
              "      <th>0</th>\n",
              "      <th>0</th>\n",
              "      <th>0</th>\n",
              "      <th>0</th>\n",
              "      <th>0</th>\n",
              "      <th>0</th>\n",
              "      <th>1</th>\n",
              "      <td>1</td>\n",
              "    </tr>\n",
              "    <tr>\n",
              "      <th>...</th>\n",
              "      <th>...</th>\n",
              "      <th>...</th>\n",
              "      <th>...</th>\n",
              "      <th>...</th>\n",
              "      <th>...</th>\n",
              "      <th>...</th>\n",
              "      <th>...</th>\n",
              "      <th>...</th>\n",
              "      <th>...</th>\n",
              "      <th>...</th>\n",
              "      <th>...</th>\n",
              "      <th>...</th>\n",
              "      <th>...</th>\n",
              "      <th>...</th>\n",
              "      <th>...</th>\n",
              "      <th>...</th>\n",
              "      <th>...</th>\n",
              "      <th>...</th>\n",
              "      <th>...</th>\n",
              "      <th>...</th>\n",
              "      <th>...</th>\n",
              "      <th>...</th>\n",
              "      <th>...</th>\n",
              "      <th>...</th>\n",
              "      <td>...</td>\n",
              "    </tr>\n",
              "    <tr>\n",
              "      <th>NCT00698516</th>\n",
              "      <th>6.000000</th>\n",
              "      <th>669.0</th>\n",
              "      <th>16</th>\n",
              "      <th>2</th>\n",
              "      <th>1</th>\n",
              "      <th>50</th>\n",
              "      <th>0</th>\n",
              "      <th>35</th>\n",
              "      <th>0</th>\n",
              "      <th>0</th>\n",
              "      <th>1</th>\n",
              "      <th>0</th>\n",
              "      <th>0</th>\n",
              "      <th>1</th>\n",
              "      <th>0</th>\n",
              "      <th>0</th>\n",
              "      <th>0</th>\n",
              "      <th>1</th>\n",
              "      <th>0</th>\n",
              "      <th>0</th>\n",
              "      <th>0</th>\n",
              "      <th>0</th>\n",
              "      <th>0</th>\n",
              "      <th>1</th>\n",
              "      <td>1</td>\n",
              "    </tr>\n",
              "    <tr>\n",
              "      <th>NCT00690482</th>\n",
              "      <th>5.137588</th>\n",
              "      <th>214.0</th>\n",
              "      <th>21</th>\n",
              "      <th>1</th>\n",
              "      <th>2</th>\n",
              "      <th>118</th>\n",
              "      <th>0</th>\n",
              "      <th>1</th>\n",
              "      <th>1</th>\n",
              "      <th>0</th>\n",
              "      <th>1</th>\n",
              "      <th>0</th>\n",
              "      <th>0</th>\n",
              "      <th>1</th>\n",
              "      <th>0</th>\n",
              "      <th>0</th>\n",
              "      <th>1</th>\n",
              "      <th>0</th>\n",
              "      <th>0</th>\n",
              "      <th>0</th>\n",
              "      <th>0</th>\n",
              "      <th>0</th>\n",
              "      <th>0</th>\n",
              "      <th>1</th>\n",
              "      <td>1</td>\n",
              "    </tr>\n",
              "    <tr>\n",
              "      <th>NCT00686959</th>\n",
              "      <th>0.000000</th>\n",
              "      <th>2252.0</th>\n",
              "      <th>133</th>\n",
              "      <th>1</th>\n",
              "      <th>2</th>\n",
              "      <th>598</th>\n",
              "      <th>0</th>\n",
              "      <th>171</th>\n",
              "      <th>0</th>\n",
              "      <th>0</th>\n",
              "      <th>1</th>\n",
              "      <th>0</th>\n",
              "      <th>0</th>\n",
              "      <th>0</th>\n",
              "      <th>1</th>\n",
              "      <th>0</th>\n",
              "      <th>1</th>\n",
              "      <th>0</th>\n",
              "      <th>0</th>\n",
              "      <th>0</th>\n",
              "      <th>0</th>\n",
              "      <th>0</th>\n",
              "      <th>0</th>\n",
              "      <th>1</th>\n",
              "      <td>1</td>\n",
              "    </tr>\n",
              "    <tr>\n",
              "      <th>NCT00682643</th>\n",
              "      <th>41.275385</th>\n",
              "      <th>975.0</th>\n",
              "      <th>56</th>\n",
              "      <th>1</th>\n",
              "      <th>2</th>\n",
              "      <th>550</th>\n",
              "      <th>0</th>\n",
              "      <th>23</th>\n",
              "      <th>1</th>\n",
              "      <th>1</th>\n",
              "      <th>1</th>\n",
              "      <th>0</th>\n",
              "      <th>0</th>\n",
              "      <th>0</th>\n",
              "      <th>0</th>\n",
              "      <th>1</th>\n",
              "      <th>1</th>\n",
              "      <th>0</th>\n",
              "      <th>0</th>\n",
              "      <th>0</th>\n",
              "      <th>0</th>\n",
              "      <th>0</th>\n",
              "      <th>0</th>\n",
              "      <th>1</th>\n",
              "      <td>1</td>\n",
              "    </tr>\n",
              "    <tr>\n",
              "      <th>NCT03099096</th>\n",
              "      <th>0.628931</th>\n",
              "      <th>210.0</th>\n",
              "      <th>38</th>\n",
              "      <th>1</th>\n",
              "      <th>1</th>\n",
              "      <th>159</th>\n",
              "      <th>0</th>\n",
              "      <th>9</th>\n",
              "      <th>0</th>\n",
              "      <th>1</th>\n",
              "      <th>1</th>\n",
              "      <th>0</th>\n",
              "      <th>0</th>\n",
              "      <th>0</th>\n",
              "      <th>1</th>\n",
              "      <th>0</th>\n",
              "      <th>0</th>\n",
              "      <th>1</th>\n",
              "      <th>0</th>\n",
              "      <th>0</th>\n",
              "      <th>0</th>\n",
              "      <th>0</th>\n",
              "      <th>0</th>\n",
              "      <th>1</th>\n",
              "      <td>1</td>\n",
              "    </tr>\n",
              "  </tbody>\n",
              "</table>\n",
              "<p>1234 rows × 1 columns</p>\n",
              "</div><br><label><b>dtype:</b> int64</label>"
            ]
          },
          "metadata": {},
          "execution_count": 37
        }
      ]
    },
    {
      "cell_type": "code",
      "source": [
        "# Convert dropout percentage to 2 decimal places\n",
        "attrition_df_final['dropout_percentage_all'] = attrition_df_final['dropout_percentage_all'].round(2)"
      ],
      "metadata": {
        "colab": {
          "base_uri": "https://localhost:8080/"
        },
        "id": "jNxFjCrH1GvL",
        "outputId": "385702cb-be5d-4dcc-e1fa-6ce5fa98e926"
      },
      "execution_count": null,
      "outputs": [
        {
          "output_type": "stream",
          "name": "stderr",
          "text": [
            "<ipython-input-38-55723ab6f9ab>:2: SettingWithCopyWarning: \n",
            "A value is trying to be set on a copy of a slice from a DataFrame.\n",
            "Try using .loc[row_indexer,col_indexer] = value instead\n",
            "\n",
            "See the caveats in the documentation: https://pandas.pydata.org/pandas-docs/stable/user_guide/indexing.html#returning-a-view-versus-a-copy\n",
            "  attrition_df_final['dropout_percentage_all'] = attrition_df_final['dropout_percentage_all'].round(2)\n"
          ]
        }
      ]
    },
    {
      "cell_type": "code",
      "source": [
        "# Replace \"Not Available\" with NaN (for consistency)\n",
        "attrition_df_final.replace(\"Not Available\", np.nan, inplace=True)"
      ],
      "metadata": {
        "colab": {
          "base_uri": "https://localhost:8080/"
        },
        "id": "SYyr1efjbCsA",
        "outputId": "d6652640-140a-47f1-a3a3-a0f319596ea3"
      },
      "execution_count": null,
      "outputs": [
        {
          "output_type": "stream",
          "name": "stderr",
          "text": [
            "<ipython-input-39-4e34b5f282c5>:2: SettingWithCopyWarning: \n",
            "A value is trying to be set on a copy of a slice from a DataFrame\n",
            "\n",
            "See the caveats in the documentation: https://pandas.pydata.org/pandas-docs/stable/user_guide/indexing.html#returning-a-view-versus-a-copy\n",
            "  attrition_df_final.replace(\"Not Available\", np.nan, inplace=True)\n"
          ]
        }
      ]
    },
    {
      "cell_type": "code",
      "source": [
        "# Check for missing values in the dataframe\n",
        "print(attrition_df_final.isna().sum())"
      ],
      "metadata": {
        "colab": {
          "base_uri": "https://localhost:8080/"
        },
        "id": "C5Nam4V9f86r",
        "outputId": "c49ad63e-b78c-4488-e270-75b7a3526623"
      },
      "execution_count": null,
      "outputs": [
        {
          "output_type": "stream",
          "name": "stdout",
          "text": [
            "nct_id                     0\n",
            "dropout_percentage_all     0\n",
            "duration                  45\n",
            "locations                  0\n",
            "condition_count            0\n",
            "armGroupsCount             0\n",
            "enrollmentInfo             0\n",
            "healthyVolunteers          0\n",
            "seriousEvents              0\n",
            "participant_masked        77\n",
            "CHILD                      0\n",
            "ADULT                      0\n",
            "OLDER_ADULT                0\n",
            "PHASE1                     0\n",
            "PHASE2                     0\n",
            "PHASE3                     0\n",
            "PHASE4                     0\n",
            "multiple_interventions     0\n",
            "DRUG                       0\n",
            "BIOLOGICAL                 0\n",
            "DEVICE                     0\n",
            "RADIATION                  0\n",
            "FEMALE                     0\n",
            "MALE                       0\n",
            "ALL_SEX                    0\n",
            "dtype: int64\n"
          ]
        }
      ]
    },
    {
      "cell_type": "code",
      "source": [
        "import matplotlib.pyplot as plt\n",
        "\n",
        "# Check summary statistics for `duration`\n",
        "print(attrition_df_final['duration'].describe())\n",
        "\n",
        "# Calculate IQR\n",
        "q1 = attrition_df_final['duration'].quantile(0.25)\n",
        "q3 = attrition_df_final['duration'].quantile(0.75)\n",
        "iqr = q3 - q1\n",
        "\n",
        "# Define outlier boundaries\n",
        "lower_bound = q1 - 1.5 * iqr\n",
        "upper_bound = q3 + 1.5 * iqr\n",
        "\n",
        "# Print outlier thresholds\n",
        "print(f\"Lower Bound: {lower_bound}, Upper Bound: {upper_bound}\")\n",
        "\n",
        "# Check for outliers\n",
        "outliers = attrition_df_final[(attrition_df_final['duration'] < lower_bound) | (attrition_df_final['duration'] > upper_bound)]\n",
        "print(f\"Number of Outliers: {len(outliers)}\")\n",
        "\n",
        "# Plot a boxplot\n",
        "plt.boxplot(attrition_df_final['duration'].dropna())\n",
        "plt.title('Boxplot of Duration')\n",
        "plt.ylabel('Duration')\n",
        "plt.show()"
      ],
      "metadata": {
        "colab": {
          "base_uri": "https://localhost:8080/",
          "height": 652
        },
        "id": "EgTXwy_c13AL",
        "outputId": "2f050845-3a4e-4bf2-b6b2-16aae7e45243"
      },
      "execution_count": null,
      "outputs": [
        {
          "output_type": "stream",
          "name": "stdout",
          "text": [
            "count    1280.000000\n",
            "mean      882.100000\n",
            "std       821.316973\n",
            "min         0.000000\n",
            "25%       300.750000\n",
            "50%       606.500000\n",
            "75%      1217.250000\n",
            "max      5205.000000\n",
            "Name: duration, dtype: float64\n",
            "Lower Bound: -1074.0, Upper Bound: 2592.0\n",
            "Number of Outliers: 62\n"
          ]
        },
        {
          "output_type": "display_data",
          "data": {
            "text/plain": [
              "<Figure size 640x480 with 1 Axes>"
            ],
            "image/png": "[encoded data removed]"
          },
          "metadata": {}
        }
      ]
    },
    {
      "cell_type": "code",
      "source": [
        "# Replace NA in 'duration' with the median\n",
        "median_duration = attrition_df_final['duration'].median()\n",
        "attrition_df_final['duration'].fillna(median_duration, inplace=True)\n",
        "\n",
        "# Verify\n",
        "print(attrition_df_final['duration'].isna().sum())"
      ],
      "metadata": {
        "colab": {
          "base_uri": "https://localhost:8080/"
        },
        "id": "Uy_PcExE2LwL",
        "outputId": "8ae13e32-c737-442f-e1ef-abc0a2f32c39"
      },
      "execution_count": null,
      "outputs": [
        {
          "output_type": "stream",
          "name": "stdout",
          "text": [
            "0\n"
          ]
        },
        {
          "output_type": "stream",
          "name": "stderr",
          "text": [
            "<ipython-input-42-aef445eea3e8>:3: FutureWarning: A value is trying to be set on a copy of a DataFrame or Series through chained assignment using an inplace method.\n",
            "The behavior will change in pandas 3.0. This inplace method will never work because the intermediate object on which we are setting values always behaves as a copy.\n",
            "\n",
            "For example, when doing 'df[col].method(value, inplace=True)', try using 'df.method({col: value}, inplace=True)' or df[col] = df[col].method(value) instead, to perform the operation inplace on the original object.\n",
            "\n",
            "\n",
            "  attrition_df_final['duration'].fillna(median_duration, inplace=True)\n",
            "<ipython-input-42-aef445eea3e8>:3: SettingWithCopyWarning: \n",
            "A value is trying to be set on a copy of a slice from a DataFrame\n",
            "\n",
            "See the caveats in the documentation: https://pandas.pydata.org/pandas-docs/stable/user_guide/indexing.html#returning-a-view-versus-a-copy\n",
            "  attrition_df_final['duration'].fillna(median_duration, inplace=True)\n"
          ]
        }
      ]
    },
    {
      "cell_type": "code",
      "source": [
        "# Calculate the mode of participant_masked\n",
        "mode_participant_masked = attrition_df_final['participant_masked'].mode()[0]\n",
        "\n",
        "# Fill missing values with the mode\n",
        "attrition_df_final['participant_masked'].fillna(mode_participant_masked, inplace=True)\n",
        "\n",
        "# Verify\n",
        "print(attrition_df_final['participant_masked'].isna().sum())"
      ],
      "metadata": {
        "colab": {
          "base_uri": "https://localhost:8080/"
        },
        "id": "FdnI-6w52v_d",
        "outputId": "e3451f2a-26ae-4450-e272-17bb839273e4"
      },
      "execution_count": null,
      "outputs": [
        {
          "output_type": "stream",
          "name": "stdout",
          "text": [
            "0\n"
          ]
        },
        {
          "output_type": "stream",
          "name": "stderr",
          "text": [
            "<ipython-input-43-4abfdfe335d8>:5: FutureWarning: A value is trying to be set on a copy of a DataFrame or Series through chained assignment using an inplace method.\n",
            "The behavior will change in pandas 3.0. This inplace method will never work because the intermediate object on which we are setting values always behaves as a copy.\n",
            "\n",
            "For example, when doing 'df[col].method(value, inplace=True)', try using 'df.method({col: value}, inplace=True)' or df[col] = df[col].method(value) instead, to perform the operation inplace on the original object.\n",
            "\n",
            "\n",
            "  attrition_df_final['participant_masked'].fillna(mode_participant_masked, inplace=True)\n",
            "<ipython-input-43-4abfdfe335d8>:5: FutureWarning: Downcasting object dtype arrays on .fillna, .ffill, .bfill is deprecated and will change in a future version. Call result.infer_objects(copy=False) instead. To opt-in to the future behavior, set `pd.set_option('future.no_silent_downcasting', True)`\n",
            "  attrition_df_final['participant_masked'].fillna(mode_participant_masked, inplace=True)\n",
            "<ipython-input-43-4abfdfe335d8>:5: SettingWithCopyWarning: \n",
            "A value is trying to be set on a copy of a slice from a DataFrame\n",
            "\n",
            "See the caveats in the documentation: https://pandas.pydata.org/pandas-docs/stable/user_guide/indexing.html#returning-a-view-versus-a-copy\n",
            "  attrition_df_final['participant_masked'].fillna(mode_participant_masked, inplace=True)\n"
          ]
        }
      ]
    },
    {
      "cell_type": "markdown",
      "source": [
        "## **3. Export Final Dataset**"
      ],
      "metadata": {
        "id": "j2VhzyMuDiy3"
      }
    },
    {
      "cell_type": "code",
      "execution_count": null,
      "metadata": {
        "id": "SCK-UXdF7R9l"
      },
      "outputs": [],
      "source": [
        "attrition_df_final.to_csv('/content/drive/MyDrive/Final_Clean_ClinicalTrials.csv', index=False)"
      ]
    }
  ],
  "metadata": {
    "colab": {
      "provenance": [],
      "toc_visible": true,
      "include_colab_link": true
    },
    "kernelspec": {
      "display_name": "Python 3",
      "name": "python3"
    },
    "language_info": {
      "name": "python"
    }
  },
  "nbformat": 4,
  "nbformat_minor": 0
}