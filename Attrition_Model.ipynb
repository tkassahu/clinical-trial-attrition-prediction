{
  "nbformat": 4,
  "nbformat_minor": 0,
  "metadata": {
    "colab": {
      "provenance": [],
      "include_colab_link": true
    },
    "kernelspec": {
      "name": "python3",
      "display_name": "Python 3"
    },
    "language_info": {
      "name": "python"
    }
  },
  "cells": [
    {
      "cell_type": "markdown",
      "metadata": {
        "id": "view-in-github",
        "colab_type": "text"
      },
      "source": [
        "<a href=\"https://colab.research.google.com/github/tkassahu/clinical-trial-attrition-prediction/blob/main/Attrition_Model.ipynb\" target=\"_parent\"><img src=\"https://colab.research.google.com/assets/colab-badge.svg\" alt=\"Open In Colab\"/></a>"
      ]
    },
    {
      "cell_type": "code",
      "execution_count": null,
      "metadata": {
        "id": "FzFEz-8-ix1y"
      },
      "outputs": [],
      "source": [
        "import pandas as pd\n",
        "import numpy as np\n",
        "from sklearn.model_selection import train_test_split\n",
        "from sklearn.ensemble import RandomForestRegressor\n",
        "from sklearn.metrics import mean_squared_error, r2_score\n",
        "from sklearn.preprocessing import StandardScaler\n"
      ]
    },
    {
      "cell_type": "code",
      "source": [
        "from google.colab import drive\n",
        "drive.mount('/content/drive')\n",
        "\n"
      ],
      "metadata": {
        "id": "VETXQkdclgi6",
        "colab": {
          "base_uri": "https://localhost:8080/"
        },
        "outputId": "3d78b956-db9f-44ef-961b-7faa4d809a81"
      },
      "execution_count": null,
      "outputs": [
        {
          "output_type": "stream",
          "name": "stdout",
          "text": [
            "Mounted at /content/drive\n"
          ]
        }
      ]
    },
    {
      "cell_type": "code",
      "source": [
        "# Load the dataset\n",
        "file_path = '/content/drive/MyDrive/Final_Clean_ClinicalTrials.csv'  # Update path as needed\n",
        "df = pd.read_csv(file_path)\n",
        "\n",
        "# Check the first few rows\n",
        "print(df.head())\n"
      ],
      "metadata": {
        "colab": {
          "base_uri": "https://localhost:8080/"
        },
        "id": "qSo8vI22m3Z-",
        "outputId": "7bab89a3-a123-4368-d832-3c4f0e5e7d58"
      },
      "execution_count": null,
      "outputs": [
        {
          "output_type": "stream",
          "name": "stdout",
          "text": [
            "        nct_id  dropout_percentage_all  duration  locations  condition_count  \\\n",
            "0  NCT00001596                   17.39    3903.0          1                5   \n",
            "1  NCT00001723                    8.00    4901.0          1                5   \n",
            "2  NCT00003869                   21.88    3318.0          1                3   \n",
            "3  NCT00003901                    0.86    4475.0         58                1   \n",
            "4  NCT00045162                   24.44    2587.0        408                1   \n",
            "\n",
            "   armGroupsCount  enrollmentInfo  healthyVolunteers  seriousEvents  \\\n",
            "0               2              35                  0              5   \n",
            "1               2             200                  0              2   \n",
            "2               2             186                  0             29   \n",
            "3               1            1310                  0              0   \n",
            "4               2             671                  0             89   \n",
            "\n",
            "   participant_masked  ...  PHASE3  PHASE4  multiple_interventions  DRUG  \\\n",
            "0                 1.0  ...       0       0                       1     0   \n",
            "1                 1.0  ...       0       0                       1     0   \n",
            "2                 1.0  ...       1       0                       1     0   \n",
            "3                 0.0  ...       1       0                       1     0   \n",
            "4                 0.0  ...       1       0                       1     0   \n",
            "\n",
            "   BIOLOGICAL  DEVICE  RADIATION  FEMALE  MALE  ALL_SEX  \n",
            "0           0       0          0       0     0        1  \n",
            "1           0       0          0       0     0        1  \n",
            "2           0       0          0       0     0        1  \n",
            "3           0       0          0       0     0        1  \n",
            "4           0       0          0       0     0        1  \n",
            "\n",
            "[5 rows x 25 columns]\n"
          ]
        }
      ]
    },
    {
      "cell_type": "code",
      "source": [
        "# Define target variable\n",
        "y = df['dropout_percentage_all']\n",
        "\n",
        "# Select features\n",
        "X = df.drop(columns=['nct_id', 'dropout_percentage_all'])\n",
        "\n",
        "#Check for missing values and handle them\n",
        "print(df.isna().sum())\n",
        "\n",
        "# Fill missing values (if any) with median values\n",
        "X.fillna(X.median(), inplace=True)\n"
      ],
      "metadata": {
        "colab": {
          "base_uri": "https://localhost:8080/"
        },
        "id": "amspQE3gm_9u",
        "outputId": "f134d392-ca0f-463f-809f-d46054216fa4"
      },
      "execution_count": null,
      "outputs": [
        {
          "output_type": "stream",
          "name": "stdout",
          "text": [
            "nct_id                    0\n",
            "dropout_percentage_all    0\n",
            "duration                  0\n",
            "locations                 0\n",
            "condition_count           0\n",
            "armGroupsCount            0\n",
            "enrollmentInfo            0\n",
            "healthyVolunteers         0\n",
            "seriousEvents             0\n",
            "participant_masked        0\n",
            "CHILD                     0\n",
            "ADULT                     0\n",
            "OLDER_ADULT               0\n",
            "PHASE1                    0\n",
            "PHASE2                    0\n",
            "PHASE3                    0\n",
            "PHASE4                    0\n",
            "multiple_interventions    0\n",
            "DRUG                      0\n",
            "BIOLOGICAL                0\n",
            "DEVICE                    0\n",
            "RADIATION                 0\n",
            "FEMALE                    0\n",
            "MALE                      0\n",
            "ALL_SEX                   0\n",
            "dtype: int64\n"
          ]
        }
      ]
    },
    {
      "cell_type": "code",
      "source": [
        "# Split the dataset\n",
        "X_train, X_test, y_train, y_test = train_test_split(X, y, test_size=0.2, random_state=42)\n",
        "\n",
        "# Standardize the data (if required, based on the model)\n",
        "scaler = StandardScaler()\n",
        "X_train = scaler.fit_transform(X_train)\n",
        "X_test = scaler.transform(X_test)\n"
      ],
      "metadata": {
        "id": "dFGXt66CoYkQ"
      },
      "execution_count": null,
      "outputs": []
    },
    {
      "cell_type": "code",
      "source": [
        "# Initialize the model\n",
        "model = RandomForestRegressor(n_estimators=100, random_state=42)\n",
        "\n",
        "# Train the model\n",
        "model.fit(X_train, y_train)\n"
      ],
      "metadata": {
        "colab": {
          "base_uri": "https://localhost:8080/",
          "height": 80
        },
        "id": "dnH4sJtOodEa",
        "outputId": "cb047be1-e051-4fb8-8ccb-9bd4784d4321"
      },
      "execution_count": null,
      "outputs": [
        {
          "output_type": "execute_result",
          "data": {
            "text/plain": [
              "RandomForestRegressor(random_state=42)"
            ],
            "text/html": [
              "<style>#sk-container-id-1 {\n",
              "  /* Definition of color scheme common for light and dark mode */\n",
              "  --sklearn-color-text: #000;\n",
              "  --sklearn-color-text-muted: #666;\n",
              "  --sklearn-color-line: gray;\n",
              "  /* Definition of color scheme for unfitted estimators */\n",
              "  --sklearn-color-unfitted-level-0: #fff5e6;\n",
              "  --sklearn-color-unfitted-level-1: #f6e4d2;\n",
              "  --sklearn-color-unfitted-level-2: #ffe0b3;\n",
              "  --sklearn-color-unfitted-level-3: chocolate;\n",
              "  /* Definition of color scheme for fitted estimators */\n",
              "  --sklearn-color-fitted-level-0: #f0f8ff;\n",
              "  --sklearn-color-fitted-level-1: #d4ebff;\n",
              "  --sklearn-color-fitted-level-2: #b3dbfd;\n",
              "  --sklearn-color-fitted-level-3: cornflowerblue;\n",
              "\n",
              "  /* Specific color for light theme */\n",
              "  --sklearn-color-text-on-default-background: var(--sg-text-color, var(--theme-code-foreground, var(--jp-content-font-color1, black)));\n",
              "  --sklearn-color-background: var(--sg-background-color, var(--theme-background, var(--jp-layout-color0, white)));\n",
              "  --sklearn-color-border-box: var(--sg-text-color, var(--theme-code-foreground, var(--jp-content-font-color1, black)));\n",
              "  --sklearn-color-icon: #696969;\n",
              "\n",
              "  @media (prefers-color-scheme: dark) {\n",
              "    /* Redefinition of color scheme for dark theme */\n",
              "    --sklearn-color-text-on-default-background: var(--sg-text-color, var(--theme-code-foreground, var(--jp-content-font-color1, white)));\n",
              "    --sklearn-color-background: var(--sg-background-color, var(--theme-background, var(--jp-layout-color0, #111)));\n",
              "    --sklearn-color-border-box: var(--sg-text-color, var(--theme-code-foreground, var(--jp-content-font-color1, white)));\n",
              "    --sklearn-color-icon: #878787;\n",
              "  }\n",
              "}\n",
              "\n",
              "#sk-container-id-1 {\n",
              "  color: var(--sklearn-color-text);\n",
              "}\n",
              "\n",
              "#sk-container-id-1 pre {\n",
              "  padding: 0;\n",
              "}\n",
              "\n",
              "#sk-container-id-1 input.sk-hidden--visually {\n",
              "  border: 0;\n",
              "  clip: rect(1px 1px 1px 1px);\n",
              "  clip: rect(1px, 1px, 1px, 1px);\n",
              "  height: 1px;\n",
              "  margin: -1px;\n",
              "  overflow: hidden;\n",
              "  padding: 0;\n",
              "  position: absolute;\n",
              "  width: 1px;\n",
              "}\n",
              "\n",
              "#sk-container-id-1 div.sk-dashed-wrapped {\n",
              "  border: 1px dashed var(--sklearn-color-line);\n",
              "  margin: 0 0.4em 0.5em 0.4em;\n",
              "  box-sizing: border-box;\n",
              "  padding-bottom: 0.4em;\n",
              "  background-color: var(--sklearn-color-background);\n",
              "}\n",
              "\n",
              "#sk-container-id-1 div.sk-container {\n",
              "  /* jupyter's `normalize.less` sets `[hidden] { display: none; }`\n",
              "     but bootstrap.min.css set `[hidden] { display: none !important; }`\n",
              "     so we also need the `!important` here to be able to override the\n",
              "     default hidden behavior on the sphinx rendered scikit-learn.org.\n",
              "     See: https://github.com/scikit-learn/scikit-learn/issues/21755 */\n",
              "  display: inline-block !important;\n",
              "  position: relative;\n",
              "}\n",
              "\n",
              "#sk-container-id-1 div.sk-text-repr-fallback {\n",
              "  display: none;\n",
              "}\n",
              "\n",
              "div.sk-parallel-item,\n",
              "div.sk-serial,\n",
              "div.sk-item {\n",
              "  /* draw centered vertical line to link estimators */\n",
              "  background-image: linear-gradient(var(--sklearn-color-text-on-default-background), var(--sklearn-color-text-on-default-background));\n",
              "  background-size: 2px 100%;\n",
              "  background-repeat: no-repeat;\n",
              "  background-position: center center;\n",
              "}\n",
              "\n",
              "/* Parallel-specific style estimator block */\n",
              "\n",
              "#sk-container-id-1 div.sk-parallel-item::after {\n",
              "  content: \"\";\n",
              "  width: 100%;\n",
              "  border-bottom: 2px solid var(--sklearn-color-text-on-default-background);\n",
              "  flex-grow: 1;\n",
              "}\n",
              "\n",
              "#sk-container-id-1 div.sk-parallel {\n",
              "  display: flex;\n",
              "  align-items: stretch;\n",
              "  justify-content: center;\n",
              "  background-color: var(--sklearn-color-background);\n",
              "  position: relative;\n",
              "}\n",
              "\n",
              "#sk-container-id-1 div.sk-parallel-item {\n",
              "  display: flex;\n",
              "  flex-direction: column;\n",
              "}\n",
              "\n",
              "#sk-container-id-1 div.sk-parallel-item:first-child::after {\n",
              "  align-self: flex-end;\n",
              "  width: 50%;\n",
              "}\n",
              "\n",
              "#sk-container-id-1 div.sk-parallel-item:last-child::after {\n",
              "  align-self: flex-start;\n",
              "  width: 50%;\n",
              "}\n",
              "\n",
              "#sk-container-id-1 div.sk-parallel-item:only-child::after {\n",
              "  width: 0;\n",
              "}\n",
              "\n",
              "/* Serial-specific style estimator block */\n",
              "\n",
              "#sk-container-id-1 div.sk-serial {\n",
              "  display: flex;\n",
              "  flex-direction: column;\n",
              "  align-items: center;\n",
              "  background-color: var(--sklearn-color-background);\n",
              "  padding-right: 1em;\n",
              "  padding-left: 1em;\n",
              "}\n",
              "\n",
              "\n",
              "/* Toggleable style: style used for estimator/Pipeline/ColumnTransformer box that is\n",
              "clickable and can be expanded/collapsed.\n",
              "- Pipeline and ColumnTransformer use this feature and define the default style\n",
              "- Estimators will overwrite some part of the style using the `sk-estimator` class\n",
              "*/\n",
              "\n",
              "/* Pipeline and ColumnTransformer style (default) */\n",
              "\n",
              "#sk-container-id-1 div.sk-toggleable {\n",
              "  /* Default theme specific background. It is overwritten whether we have a\n",
              "  specific estimator or a Pipeline/ColumnTransformer */\n",
              "  background-color: var(--sklearn-color-background);\n",
              "}\n",
              "\n",
              "/* Toggleable label */\n",
              "#sk-container-id-1 label.sk-toggleable__label {\n",
              "  cursor: pointer;\n",
              "  display: flex;\n",
              "  width: 100%;\n",
              "  margin-bottom: 0;\n",
              "  padding: 0.5em;\n",
              "  box-sizing: border-box;\n",
              "  text-align: center;\n",
              "  align-items: start;\n",
              "  justify-content: space-between;\n",
              "  gap: 0.5em;\n",
              "}\n",
              "\n",
              "#sk-container-id-1 label.sk-toggleable__label .caption {\n",
              "  font-size: 0.6rem;\n",
              "  font-weight: lighter;\n",
              "  color: var(--sklearn-color-text-muted);\n",
              "}\n",
              "\n",
              "#sk-container-id-1 label.sk-toggleable__label-arrow:before {\n",
              "  /* Arrow on the left of the label */\n",
              "  content: \"▸\";\n",
              "  float: left;\n",
              "  margin-right: 0.25em;\n",
              "  color: var(--sklearn-color-icon);\n",
              "}\n",
              "\n",
              "#sk-container-id-1 label.sk-toggleable__label-arrow:hover:before {\n",
              "  color: var(--sklearn-color-text);\n",
              "}\n",
              "\n",
              "/* Toggleable content - dropdown */\n",
              "\n",
              "#sk-container-id-1 div.sk-toggleable__content {\n",
              "  max-height: 0;\n",
              "  max-width: 0;\n",
              "  overflow: hidden;\n",
              "  text-align: left;\n",
              "  /* unfitted */\n",
              "  background-color: var(--sklearn-color-unfitted-level-0);\n",
              "}\n",
              "\n",
              "#sk-container-id-1 div.sk-toggleable__content.fitted {\n",
              "  /* fitted */\n",
              "  background-color: var(--sklearn-color-fitted-level-0);\n",
              "}\n",
              "\n",
              "#sk-container-id-1 div.sk-toggleable__content pre {\n",
              "  margin: 0.2em;\n",
              "  border-radius: 0.25em;\n",
              "  color: var(--sklearn-color-text);\n",
              "  /* unfitted */\n",
              "  background-color: var(--sklearn-color-unfitted-level-0);\n",
              "}\n",
              "\n",
              "#sk-container-id-1 div.sk-toggleable__content.fitted pre {\n",
              "  /* unfitted */\n",
              "  background-color: var(--sklearn-color-fitted-level-0);\n",
              "}\n",
              "\n",
              "#sk-container-id-1 input.sk-toggleable__control:checked~div.sk-toggleable__content {\n",
              "  /* Expand drop-down */\n",
              "  max-height: 200px;\n",
              "  max-width: 100%;\n",
              "  overflow: auto;\n",
              "}\n",
              "\n",
              "#sk-container-id-1 input.sk-toggleable__control:checked~label.sk-toggleable__label-arrow:before {\n",
              "  content: \"▾\";\n",
              "}\n",
              "\n",
              "/* Pipeline/ColumnTransformer-specific style */\n",
              "\n",
              "#sk-container-id-1 div.sk-label input.sk-toggleable__control:checked~label.sk-toggleable__label {\n",
              "  color: var(--sklearn-color-text);\n",
              "  background-color: var(--sklearn-color-unfitted-level-2);\n",
              "}\n",
              "\n",
              "#sk-container-id-1 div.sk-label.fitted input.sk-toggleable__control:checked~label.sk-toggleable__label {\n",
              "  background-color: var(--sklearn-color-fitted-level-2);\n",
              "}\n",
              "\n",
              "/* Estimator-specific style */\n",
              "\n",
              "/* Colorize estimator box */\n",
              "#sk-container-id-1 div.sk-estimator input.sk-toggleable__control:checked~label.sk-toggleable__label {\n",
              "  /* unfitted */\n",
              "  background-color: var(--sklearn-color-unfitted-level-2);\n",
              "}\n",
              "\n",
              "#sk-container-id-1 div.sk-estimator.fitted input.sk-toggleable__control:checked~label.sk-toggleable__label {\n",
              "  /* fitted */\n",
              "  background-color: var(--sklearn-color-fitted-level-2);\n",
              "}\n",
              "\n",
              "#sk-container-id-1 div.sk-label label.sk-toggleable__label,\n",
              "#sk-container-id-1 div.sk-label label {\n",
              "  /* The background is the default theme color */\n",
              "  color: var(--sklearn-color-text-on-default-background);\n",
              "}\n",
              "\n",
              "/* On hover, darken the color of the background */\n",
              "#sk-container-id-1 div.sk-label:hover label.sk-toggleable__label {\n",
              "  color: var(--sklearn-color-text);\n",
              "  background-color: var(--sklearn-color-unfitted-level-2);\n",
              "}\n",
              "\n",
              "/* Label box, darken color on hover, fitted */\n",
              "#sk-container-id-1 div.sk-label.fitted:hover label.sk-toggleable__label.fitted {\n",
              "  color: var(--sklearn-color-text);\n",
              "  background-color: var(--sklearn-color-fitted-level-2);\n",
              "}\n",
              "\n",
              "/* Estimator label */\n",
              "\n",
              "#sk-container-id-1 div.sk-label label {\n",
              "  font-family: monospace;\n",
              "  font-weight: bold;\n",
              "  display: inline-block;\n",
              "  line-height: 1.2em;\n",
              "}\n",
              "\n",
              "#sk-container-id-1 div.sk-label-container {\n",
              "  text-align: center;\n",
              "}\n",
              "\n",
              "/* Estimator-specific */\n",
              "#sk-container-id-1 div.sk-estimator {\n",
              "  font-family: monospace;\n",
              "  border: 1px dotted var(--sklearn-color-border-box);\n",
              "  border-radius: 0.25em;\n",
              "  box-sizing: border-box;\n",
              "  margin-bottom: 0.5em;\n",
              "  /* unfitted */\n",
              "  background-color: var(--sklearn-color-unfitted-level-0);\n",
              "}\n",
              "\n",
              "#sk-container-id-1 div.sk-estimator.fitted {\n",
              "  /* fitted */\n",
              "  background-color: var(--sklearn-color-fitted-level-0);\n",
              "}\n",
              "\n",
              "/* on hover */\n",
              "#sk-container-id-1 div.sk-estimator:hover {\n",
              "  /* unfitted */\n",
              "  background-color: var(--sklearn-color-unfitted-level-2);\n",
              "}\n",
              "\n",
              "#sk-container-id-1 div.sk-estimator.fitted:hover {\n",
              "  /* fitted */\n",
              "  background-color: var(--sklearn-color-fitted-level-2);\n",
              "}\n",
              "\n",
              "/* Specification for estimator info (e.g. \"i\" and \"?\") */\n",
              "\n",
              "/* Common style for \"i\" and \"?\" */\n",
              "\n",
              ".sk-estimator-doc-link,\n",
              "a:link.sk-estimator-doc-link,\n",
              "a:visited.sk-estimator-doc-link {\n",
              "  float: right;\n",
              "  font-size: smaller;\n",
              "  line-height: 1em;\n",
              "  font-family: monospace;\n",
              "  background-color: var(--sklearn-color-background);\n",
              "  border-radius: 1em;\n",
              "  height: 1em;\n",
              "  width: 1em;\n",
              "  text-decoration: none !important;\n",
              "  margin-left: 0.5em;\n",
              "  text-align: center;\n",
              "  /* unfitted */\n",
              "  border: var(--sklearn-color-unfitted-level-1) 1pt solid;\n",
              "  color: var(--sklearn-color-unfitted-level-1);\n",
              "}\n",
              "\n",
              ".sk-estimator-doc-link.fitted,\n",
              "a:link.sk-estimator-doc-link.fitted,\n",
              "a:visited.sk-estimator-doc-link.fitted {\n",
              "  /* fitted */\n",
              "  border: var(--sklearn-color-fitted-level-1) 1pt solid;\n",
              "  color: var(--sklearn-color-fitted-level-1);\n",
              "}\n",
              "\n",
              "/* On hover */\n",
              "div.sk-estimator:hover .sk-estimator-doc-link:hover,\n",
              ".sk-estimator-doc-link:hover,\n",
              "div.sk-label-container:hover .sk-estimator-doc-link:hover,\n",
              ".sk-estimator-doc-link:hover {\n",
              "  /* unfitted */\n",
              "  background-color: var(--sklearn-color-unfitted-level-3);\n",
              "  color: var(--sklearn-color-background);\n",
              "  text-decoration: none;\n",
              "}\n",
              "\n",
              "div.sk-estimator.fitted:hover .sk-estimator-doc-link.fitted:hover,\n",
              ".sk-estimator-doc-link.fitted:hover,\n",
              "div.sk-label-container:hover .sk-estimator-doc-link.fitted:hover,\n",
              ".sk-estimator-doc-link.fitted:hover {\n",
              "  /* fitted */\n",
              "  background-color: var(--sklearn-color-fitted-level-3);\n",
              "  color: var(--sklearn-color-background);\n",
              "  text-decoration: none;\n",
              "}\n",
              "\n",
              "/* Span, style for the box shown on hovering the info icon */\n",
              ".sk-estimator-doc-link span {\n",
              "  display: none;\n",
              "  z-index: 9999;\n",
              "  position: relative;\n",
              "  font-weight: normal;\n",
              "  right: .2ex;\n",
              "  padding: .5ex;\n",
              "  margin: .5ex;\n",
              "  width: min-content;\n",
              "  min-width: 20ex;\n",
              "  max-width: 50ex;\n",
              "  color: var(--sklearn-color-text);\n",
              "  box-shadow: 2pt 2pt 4pt #999;\n",
              "  /* unfitted */\n",
              "  background: var(--sklearn-color-unfitted-level-0);\n",
              "  border: .5pt solid var(--sklearn-color-unfitted-level-3);\n",
              "}\n",
              "\n",
              ".sk-estimator-doc-link.fitted span {\n",
              "  /* fitted */\n",
              "  background: var(--sklearn-color-fitted-level-0);\n",
              "  border: var(--sklearn-color-fitted-level-3);\n",
              "}\n",
              "\n",
              ".sk-estimator-doc-link:hover span {\n",
              "  display: block;\n",
              "}\n",
              "\n",
              "/* \"?\"-specific style due to the `<a>` HTML tag */\n",
              "\n",
              "#sk-container-id-1 a.estimator_doc_link {\n",
              "  float: right;\n",
              "  font-size: 1rem;\n",
              "  line-height: 1em;\n",
              "  font-family: monospace;\n",
              "  background-color: var(--sklearn-color-background);\n",
              "  border-radius: 1rem;\n",
              "  height: 1rem;\n",
              "  width: 1rem;\n",
              "  text-decoration: none;\n",
              "  /* unfitted */\n",
              "  color: var(--sklearn-color-unfitted-level-1);\n",
              "  border: var(--sklearn-color-unfitted-level-1) 1pt solid;\n",
              "}\n",
              "\n",
              "#sk-container-id-1 a.estimator_doc_link.fitted {\n",
              "  /* fitted */\n",
              "  border: var(--sklearn-color-fitted-level-1) 1pt solid;\n",
              "  color: var(--sklearn-color-fitted-level-1);\n",
              "}\n",
              "\n",
              "/* On hover */\n",
              "#sk-container-id-1 a.estimator_doc_link:hover {\n",
              "  /* unfitted */\n",
              "  background-color: var(--sklearn-color-unfitted-level-3);\n",
              "  color: var(--sklearn-color-background);\n",
              "  text-decoration: none;\n",
              "}\n",
              "\n",
              "#sk-container-id-1 a.estimator_doc_link.fitted:hover {\n",
              "  /* fitted */\n",
              "  background-color: var(--sklearn-color-fitted-level-3);\n",
              "}\n",
              "</style><div id=\"sk-container-id-1\" class=\"sk-top-container\"><div class=\"sk-text-repr-fallback\"><pre>RandomForestRegressor(random_state=42)</pre><b>In a Jupyter environment, please rerun this cell to show the HTML representation or trust the notebook. <br />On GitHub, the HTML representation is unable to render, please try loading this page with nbviewer.org.</b></div><div class=\"sk-container\" hidden><div class=\"sk-item\"><div class=\"sk-estimator fitted sk-toggleable\"><input class=\"sk-toggleable__control sk-hidden--visually\" id=\"sk-estimator-id-1\" type=\"checkbox\" checked><label for=\"sk-estimator-id-1\" class=\"sk-toggleable__label fitted sk-toggleable__label-arrow\"><div><div>RandomForestRegressor</div></div><div><a class=\"sk-estimator-doc-link fitted\" rel=\"noreferrer\" target=\"_blank\" href=\"https://scikit-learn.org/1.6/modules/generated/sklearn.ensemble.RandomForestRegressor.html\">?<span>Documentation for RandomForestRegressor</span></a><span class=\"sk-estimator-doc-link fitted\">i<span>Fitted</span></span></div></label><div class=\"sk-toggleable__content fitted\"><pre>RandomForestRegressor(random_state=42)</pre></div> </div></div></div></div>"
            ]
          },
          "metadata": {},
          "execution_count": 6
        }
      ]
    },
    {
      "cell_type": "code",
      "source": [
        "# Predict on the test set\n",
        "y_pred = model.predict(X_test)\n",
        "\n",
        "# Evaluate the model\n",
        "r2 = r2_score(y_test, y_pred)\n",
        "mse = mean_squared_error(y_test, y_pred)\n",
        "rmse = np.sqrt(mse)\n",
        "\n",
        "print(f\"R² Score: {r2}\")\n",
        "print(f\"MSE: {mse}\")\n",
        "print(f\"RMSE: {rmse}\")\n"
      ],
      "metadata": {
        "colab": {
          "base_uri": "https://localhost:8080/"
        },
        "id": "m3EjtdHlooEi",
        "outputId": "fd23feff-2a91-4995-d4b7-8eadf528c7a0"
      },
      "execution_count": null,
      "outputs": [
        {
          "output_type": "stream",
          "name": "stdout",
          "text": [
            "R² Score: 0.31270315613532684\n",
            "MSE: 77.35016063237734\n",
            "RMSE: 8.794894009161073\n"
          ]
        }
      ]
    },
    {
      "cell_type": "code",
      "source": [
        "# Feature importance\n",
        "feature_importance = pd.DataFrame({\n",
        "    'Feature': X.columns,\n",
        "    'Importance': model.feature_importances_\n",
        "}).sort_values(by='Importance', ascending=False)\n",
        "\n",
        "print(feature_importance)\n",
        "\n",
        "#Visualize feature importance\n",
        "import matplotlib.pyplot as plt\n",
        "\n",
        "plt.figure(figsize=(10, 6))\n",
        "plt.barh(feature_importance['Feature'], feature_importance['Importance'])\n",
        "plt.xlabel('Importance')\n",
        "plt.title('Feature Importance')\n",
        "plt.gca().invert_yaxis()\n",
        "plt.show()\n",
        "# Save the plot as an image file\n",
        "plt.savefig('Random_forest_feature_importance.png', dpi=300, bbox_inches='tight')  # Save with high resolution\n",
        "plt.show()"
      ],
      "metadata": {
        "colab": {
          "base_uri": "https://localhost:8080/",
          "height": 948
        },
        "id": "DYJ9XARFowWH",
        "outputId": "9be8d12e-b1af-48ef-f4eb-bc2126b25efb"
      },
      "execution_count": null,
      "outputs": [
        {
          "output_type": "stream",
          "name": "stdout",
          "text": [
            "                   Feature  Importance\n",
            "0                 duration    0.310335\n",
            "6            seriousEvents    0.194566\n",
            "4           enrollmentInfo    0.150729\n",
            "1                locations    0.121566\n",
            "2          condition_count    0.057359\n",
            "3           armGroupsCount    0.040653\n",
            "5        healthyVolunteers    0.027726\n",
            "16                    DRUG    0.017779\n",
            "7       participant_masked    0.015011\n",
            "12                  PHASE2    0.014300\n",
            "8                    CHILD    0.012417\n",
            "13                  PHASE3    0.011305\n",
            "14                  PHASE4    0.010023\n",
            "15  multiple_interventions    0.006479\n",
            "9                    ADULT    0.005155\n",
            "11                  PHASE1    0.002294\n",
            "20                  FEMALE    0.000861\n",
            "22                 ALL_SEX    0.000683\n",
            "17              BIOLOGICAL    0.000401\n",
            "18                  DEVICE    0.000303\n",
            "19               RADIATION    0.000037\n",
            "21                    MALE    0.000019\n",
            "10             OLDER_ADULT    0.000000\n"
          ]
        },
        {
          "output_type": "display_data",
          "data": {
            "text/plain": [
              "<Figure size 1000x600 with 1 Axes>"
            ],
            "image/png": "[encoded data removed]"
          },
          "metadata": {}
        },
        {
          "output_type": "display_data",
          "data": {
            "text/plain": [
              "<Figure size 640x480 with 0 Axes>"
            ]
          },
          "metadata": {}
        }
      ]
    },
    {
      "cell_type": "code",
      "source": [
        "import joblib\n",
        "\n",
        "# Save the model\n",
        "joblib.dump(model, 'clinical_trials_attrition_model.pkl')\n",
        "\n",
        "# Save predictions\n",
        "results = pd.DataFrame({'Actual': y_test, 'Predicted': y_pred})\n",
        "results.to_csv('attrition_predictions.csv', index=False)\n",
        "\n",
        "print(\"Model and predictions saved!\")\n"
      ],
      "metadata": {
        "colab": {
          "base_uri": "https://localhost:8080/"
        },
        "id": "KOVQE57VpEPR",
        "outputId": "d8d8f8cc-9655-490e-c85a-4702e8267f98"
      },
      "execution_count": null,
      "outputs": [
        {
          "output_type": "stream",
          "name": "stdout",
          "text": [
            "Model and predictions saved!\n"
          ]
        }
      ]
    },
    {
      "cell_type": "code",
      "source": [
        "pip install xgboost\n"
      ],
      "metadata": {
        "colab": {
          "base_uri": "https://localhost:8080/"
        },
        "id": "l_f3X7Im4Ux_",
        "outputId": "21b73537-c7a9-45f0-f311-3c0c407595b2"
      },
      "execution_count": null,
      "outputs": [
        {
          "output_type": "stream",
          "name": "stdout",
          "text": [
            "Requirement already satisfied: xgboost in /usr/local/lib/python3.10/dist-packages (2.1.3)\n",
            "Requirement already satisfied: numpy in /usr/local/lib/python3.10/dist-packages (from xgboost) (1.26.4)\n",
            "Requirement already satisfied: nvidia-nccl-cu12 in /usr/local/lib/python3.10/dist-packages (from xgboost) (2.23.4)\n",
            "Requirement already satisfied: scipy in /usr/local/lib/python3.10/dist-packages (from xgboost) (1.13.1)\n"
          ]
        }
      ]
    },
    {
      "cell_type": "code",
      "source": [
        "import xgboost as xgb\n",
        "from sklearn.model_selection import train_test_split\n",
        "from sklearn.metrics import mean_squared_error, r2_score\n",
        "import numpy as np\n",
        "\n",
        "# Prepare the data\n",
        "X = df.drop(columns=[\"dropout_percentage_all\", \"nct_id\"])  # Features\n",
        "y = df[\"dropout_percentage_all\"]  # Target variable\n",
        "\n",
        "# Train-test split\n",
        "X_train, X_test, y_train, y_test = train_test_split(X, y, test_size=0.2, random_state=42)\n",
        "\n",
        "# Convert data to DMatrix format (XGBoost's optimized data structure)\n",
        "dtrain = xgb.DMatrix(X_train, label=y_train)\n",
        "dtest = xgb.DMatrix(X_test, label=y_test)\n",
        "\n",
        "# Define parameters for the XGBoost model\n",
        "params = {\n",
        "    \"objective\": \"reg:squarederror\",  # For regression tasks\n",
        "    \"max_depth\": 6,                   # Maximum depth of a tree\n",
        "    \"eta\": 0.1,                       # Learning rate\n",
        "    \"subsample\": 0.8,                 # Subsample ratio of the training set\n",
        "    \"colsample_bytree\": 0.8,          # Subsample ratio of columns when constructing trees\n",
        "    \"eval_metric\": \"rmse\"             # Evaluation metric\n",
        "}\n",
        "\n",
        "# Train the XGBoost model\n",
        "xgb_model = xgb.train(\n",
        "    params,\n",
        "    dtrain,\n",
        "    num_boost_round=100,               # Number of boosting rounds\n",
        "    evals=[(dtrain, \"train\"), (dtest, \"test\")],  # Evaluation on train and test sets\n",
        "    early_stopping_rounds=10           # Stop early if no improvement\n",
        ")\n",
        "\n",
        "# Predict on the test set\n",
        "y_pred = xgb_model.predict(dtest)\n",
        "\n",
        "# Evaluate the model\n",
        "xgb_r2 = r2_score(y_test, y_pred)\n",
        "xgb_mse = mean_squared_error(y_test, y_pred)\n",
        "xgb_rmse = np.sqrt(xgb_mse)\n",
        "\n",
        "print(\"XGBoost Results:\")\n",
        "print(f\"R² Score: {xgb_r2}\")\n",
        "print(f\"MSE: {xgb_mse}\")\n",
        "print(f\"RMSE: {xgb_rmse}\")\n"
      ],
      "metadata": {
        "colab": {
          "base_uri": "https://localhost:8080/"
        },
        "id": "zdfa5j1Y45Eg",
        "outputId": "0d5f5d8f-4d3c-4932-dfee-7d32bd51ef0d"
      },
      "execution_count": null,
      "outputs": [
        {
          "output_type": "stream",
          "name": "stdout",
          "text": [
            "[0]\ttrain-rmse:9.80659\ttest-rmse:10.29679\n",
            "[1]\ttrain-rmse:9.49153\ttest-rmse:10.05710\n",
            "[2]\ttrain-rmse:9.22767\ttest-rmse:9.88704\n",
            "[3]\ttrain-rmse:8.98393\ttest-rmse:9.70101\n",
            "[4]\ttrain-rmse:8.76342\ttest-rmse:9.55897\n",
            "[5]\ttrain-rmse:8.57986\ttest-rmse:9.42766\n",
            "[6]\ttrain-rmse:8.40639\ttest-rmse:9.32222\n",
            "[7]\ttrain-rmse:8.24950\ttest-rmse:9.19428\n",
            "[8]\ttrain-rmse:8.13548\ttest-rmse:9.13788\n",
            "[9]\ttrain-rmse:8.00527\ttest-rmse:9.09323\n",
            "[10]\ttrain-rmse:7.88822\ttest-rmse:9.04976\n",
            "[11]\ttrain-rmse:7.79663\ttest-rmse:9.00967\n",
            "[12]\ttrain-rmse:7.67350\ttest-rmse:8.94725\n",
            "[13]\ttrain-rmse:7.60623\ttest-rmse:8.90625\n",
            "[14]\ttrain-rmse:7.50548\ttest-rmse:8.87937\n",
            "[15]\ttrain-rmse:7.42957\ttest-rmse:8.87276\n",
            "[16]\ttrain-rmse:7.34606\ttest-rmse:8.83504\n",
            "[17]\ttrain-rmse:7.21705\ttest-rmse:8.79951\n",
            "[18]\ttrain-rmse:7.12071\ttest-rmse:8.78360\n",
            "[19]\ttrain-rmse:6.99466\ttest-rmse:8.77734\n",
            "[20]\ttrain-rmse:6.90371\ttest-rmse:8.75923\n",
            "[21]\ttrain-rmse:6.78952\ttest-rmse:8.73749\n",
            "[22]\ttrain-rmse:6.72293\ttest-rmse:8.74076\n",
            "[23]\ttrain-rmse:6.67629\ttest-rmse:8.72558\n",
            "[24]\ttrain-rmse:6.65106\ttest-rmse:8.72927\n",
            "[25]\ttrain-rmse:6.61544\ttest-rmse:8.73107\n",
            "[26]\ttrain-rmse:6.52482\ttest-rmse:8.73418\n",
            "[27]\ttrain-rmse:6.42294\ttest-rmse:8.72307\n",
            "[28]\ttrain-rmse:6.38797\ttest-rmse:8.72025\n",
            "[29]\ttrain-rmse:6.36809\ttest-rmse:8.70221\n",
            "[30]\ttrain-rmse:6.34301\ttest-rmse:8.67695\n",
            "[31]\ttrain-rmse:6.20257\ttest-rmse:8.67910\n",
            "[32]\ttrain-rmse:6.09489\ttest-rmse:8.66194\n",
            "[33]\ttrain-rmse:6.04639\ttest-rmse:8.68987\n",
            "[34]\ttrain-rmse:5.99954\ttest-rmse:8.67264\n",
            "[35]\ttrain-rmse:5.94710\ttest-rmse:8.69982\n",
            "[36]\ttrain-rmse:5.90535\ttest-rmse:8.66272\n",
            "[37]\ttrain-rmse:5.87113\ttest-rmse:8.65663\n",
            "[38]\ttrain-rmse:5.83373\ttest-rmse:8.66059\n",
            "[39]\ttrain-rmse:5.78948\ttest-rmse:8.67284\n",
            "[40]\ttrain-rmse:5.74665\ttest-rmse:8.67279\n",
            "[41]\ttrain-rmse:5.68571\ttest-rmse:8.66375\n",
            "[42]\ttrain-rmse:5.63259\ttest-rmse:8.67750\n",
            "[43]\ttrain-rmse:5.55272\ttest-rmse:8.66486\n",
            "[44]\ttrain-rmse:5.48661\ttest-rmse:8.66809\n",
            "[45]\ttrain-rmse:5.47123\ttest-rmse:8.65734\n",
            "[46]\ttrain-rmse:5.40210\ttest-rmse:8.67801\n",
            "XGBoost Results:\n",
            "R² Score: 0.3318753148230795\n",
            "MSE: 75.1924764128073\n",
            "RMSE: 8.671359548122041\n"
          ]
        }
      ]
    },
    {
      "cell_type": "code",
      "source": [
        "# Get feature importance\n",
        "importance = xgb_model.get_score(importance_type=\"weight\")\n",
        "importance_df = pd.DataFrame({\n",
        "    \"Feature\": importance.keys(),\n",
        "    \"Importance\": importance.values()\n",
        "}).sort_values(by=\"Importance\", ascending=False)\n",
        "\n",
        "print(\"\\nFeature Importance:\")\n",
        "print(importance_df)\n"
      ],
      "metadata": {
        "colab": {
          "base_uri": "https://localhost:8080/"
        },
        "id": "ccRwV2sy5Eb5",
        "outputId": "baba8228-d0ec-4254-8e27-ca9554da2ee2"
      },
      "execution_count": null,
      "outputs": [
        {
          "output_type": "stream",
          "name": "stdout",
          "text": [
            "\n",
            "Feature Importance:\n",
            "                   Feature  Importance\n",
            "0                 duration       458.0\n",
            "1                locations       334.0\n",
            "4           enrollmentInfo       301.0\n",
            "6            seriousEvents       299.0\n",
            "3           armGroupsCount       135.0\n",
            "2          condition_count       105.0\n",
            "5        healthyVolunteers        45.0\n",
            "8                    CHILD        35.0\n",
            "11                  PHASE2        32.0\n",
            "13                  PHASE4        31.0\n",
            "7       participant_masked        29.0\n",
            "15                    DRUG        29.0\n",
            "12                  PHASE3        23.0\n",
            "9                    ADULT        20.0\n",
            "14  multiple_interventions        15.0\n",
            "17                  DEVICE         6.0\n",
            "18                  FEMALE         6.0\n",
            "10                  PHASE1         6.0\n",
            "16              BIOLOGICAL         5.0\n",
            "19                 ALL_SEX         1.0\n"
          ]
        }
      ]
    },
    {
      "cell_type": "code",
      "source": [
        "import matplotlib.pyplot as plt\n",
        "\n",
        "# Get feature importance\n",
        "importance = xgb_model.get_score(importance_type=\"weight\")\n",
        "importance_df = pd.DataFrame({\n",
        "    \"Feature\": importance.keys(),\n",
        "    \"Importance\": importance.values()\n",
        "}).sort_values(by=\"Importance\", ascending=False)\n",
        "\n",
        "# Plot feature importance\n",
        "plt.figure(figsize=(10, 6))\n",
        "plt.barh(importance_df[\"Feature\"], importance_df[\"Importance\"], color=\"skyblue\")\n",
        "plt.gca().invert_yaxis()  # Invert y-axis for better visualization\n",
        "plt.title(\"Feature Importance from XGBoost Model\")\n",
        "plt.xlabel(\"Importance\")\n",
        "plt.ylabel(\"Feature\")\n",
        "plt.show()\n",
        "\n",
        "# Save the plot as an image file before showing it\n",
        "plt.savefig('xgb_feature_importance.png', dpi=300, bbox_inches='tight')  # Save with high resolution\n",
        "plt.show()"
      ],
      "metadata": {
        "colab": {
          "base_uri": "https://localhost:8080/",
          "height": 510
        },
        "id": "MxDcgn2N5W0x",
        "outputId": "d01a9eef-127c-47a0-db7c-4b13575eb76c"
      },
      "execution_count": null,
      "outputs": [
        {
          "output_type": "display_data",
          "data": {
            "text/plain": [
              "<Figure size 1000x600 with 1 Axes>"
            ],
            "image/png": "[encoded data removed]"
          },
          "metadata": {}
        },
        {
          "output_type": "display_data",
          "data": {
            "text/plain": [
              "<Figure size 640x480 with 0 Axes>"
            ]
          },
          "metadata": {}
        }
      ]
    },
    {
      "cell_type": "code",
      "source": [
        "# Create a comparison table\n",
        "data = {\n",
        "    \"Model\": [\"Random Forest\", \"XGBoost\"],\n",
        "    \"R² Score\": [0.31271895960081253, 0.3318753148230795],\n",
        "    \"MSE\": [77.34838206958489, 75.1924764128073],\n",
        "    \"RMSE\": [8.794792895207078, 8.671359548122041]\n",
        "}\n",
        "\n",
        "comparison_df = pd.DataFrame(data)\n",
        "\n",
        "# Display the comparison table directly in the console\n",
        "print(\"Comparison Table:\")\n",
        "print(comparison_df)\n",
        "\n",
        "# Save the comparison table to a CSV file\n",
        "comparison_df.to_csv(\"model_comparison.csv\", index=False)\n",
        "\n",
        "print(\"Comparison table saved as 'model_comparison.csv'.\")"
      ],
      "metadata": {
        "colab": {
          "base_uri": "https://localhost:8080/"
        },
        "id": "7F3kottV7q22",
        "outputId": "c39db052-1e2e-4a1a-8420-9c509a65ccf8"
      },
      "execution_count": null,
      "outputs": [
        {
          "output_type": "stream",
          "name": "stdout",
          "text": [
            "Comparison Table:\n",
            "           Model  R² Score        MSE      RMSE\n",
            "0  Random Forest  0.312719  77.348382  8.794793\n",
            "1        XGBoost  0.331875  75.192476  8.671360\n",
            "Comparison table saved as 'model_comparison.csv'.\n"
          ]
        }
      ]
    }
  ]
}